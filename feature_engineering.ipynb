{
 "cells": [
  {
   "cell_type": "code",
   "execution_count": 1,
   "metadata": {},
   "outputs": [],
   "source": [
    "import pandas as pd\n",
    "import numpy as np\n",
    "import matplotlib.pyplot as plt\n",
    "import seaborn as sns\n",
    "import re"
   ]
  },
  {
   "cell_type": "code",
   "execution_count": 2,
   "metadata": {},
   "outputs": [
    {
     "data": {
      "text/html": [
       "<div>\n",
       "<style scoped>\n",
       "    .dataframe tbody tr th:only-of-type {\n",
       "        vertical-align: middle;\n",
       "    }\n",
       "\n",
       "    .dataframe tbody tr th {\n",
       "        vertical-align: top;\n",
       "    }\n",
       "\n",
       "    .dataframe thead th {\n",
       "        text-align: right;\n",
       "    }\n",
       "</style>\n",
       "<table border=\"1\" class=\"dataframe\">\n",
       "  <thead>\n",
       "    <tr style=\"text-align: right;\">\n",
       "      <th></th>\n",
       "      <th>Unnamed: 0</th>\n",
       "      <th>Unnamed: 0.1</th>\n",
       "      <th>Unnamed: 0.1.1</th>\n",
       "      <th>Unnamed: 0.1.1.1</th>\n",
       "      <th>White_Elo</th>\n",
       "      <th>Black_Elo</th>\n",
       "      <th>Result</th>\n",
       "      <th>Opening</th>\n",
       "      <th>Variation</th>\n",
       "      <th>Time_Control</th>\n",
       "      <th>Increment</th>\n",
       "      <th>Evaluation</th>\n",
       "      <th>Players_Clock</th>\n",
       "      <th>Termination</th>\n",
       "      <th>Moves</th>\n",
       "    </tr>\n",
       "  </thead>\n",
       "  <tbody>\n",
       "    <tr>\n",
       "      <th>0</th>\n",
       "      <td>0</td>\n",
       "      <td>0</td>\n",
       "      <td>0</td>\n",
       "      <td>0</td>\n",
       "      <td>1791</td>\n",
       "      <td>1829</td>\n",
       "      <td>1-0</td>\n",
       "      <td>Queen's Gambit Refused</td>\n",
       "      <td>Marshall Defense</td>\n",
       "      <td>180.0</td>\n",
       "      <td>2.0</td>\n",
       "      <td>['0.25', '0.25', '0.26', '0.78', '-0.08', '0.4...</td>\n",
       "      <td>['0:03:00', '0:03:00', '0:03:01', '0:03:02', '...</td>\n",
       "      <td>Resignation</td>\n",
       "      <td>1.d4 d5 2.c4 Nf6 3.Nc3 c6 4.Bg5 e6 5.f3 Be7 6....</td>\n",
       "    </tr>\n",
       "    <tr>\n",
       "      <th>1</th>\n",
       "      <td>1</td>\n",
       "      <td>1</td>\n",
       "      <td>1</td>\n",
       "      <td>1</td>\n",
       "      <td>2120</td>\n",
       "      <td>2104</td>\n",
       "      <td>1-0</td>\n",
       "      <td>Sicilian Defense</td>\n",
       "      <td>Smith-Morra Gambit Accepted, Paulsen Formation</td>\n",
       "      <td>300.0</td>\n",
       "      <td>0.0</td>\n",
       "      <td>['0.24', '0.2', '0.21', '0.47', '0.22', '0.09'...</td>\n",
       "      <td>['0:05:00', '0:05:00', '0:04:59', '0:04:59', '...</td>\n",
       "      <td>Checkmate</td>\n",
       "      <td>1.e4 c5 2.Nf3 e6 3.d4 cxd4 4.c3 dxc3 5.Nxc3 Nc...</td>\n",
       "    </tr>\n",
       "    <tr>\n",
       "      <th>2</th>\n",
       "      <td>2</td>\n",
       "      <td>2</td>\n",
       "      <td>2</td>\n",
       "      <td>2</td>\n",
       "      <td>1457</td>\n",
       "      <td>1521</td>\n",
       "      <td>1-0</td>\n",
       "      <td>Sicilian Defense</td>\n",
       "      <td>Old Sicilian</td>\n",
       "      <td>600.0</td>\n",
       "      <td>0.0</td>\n",
       "      <td>['0.24', '0.2', '0.21', '0.08', '0.0', '0.0', ...</td>\n",
       "      <td>['0:10:00', '0:10:00', '0:09:59', '0:09:59', '...</td>\n",
       "      <td>Checkmate</td>\n",
       "      <td>1.e4 c5 2.Nf3 Nc6 3.Bc4 e6 4.d4 a6 5.dxc5 d5 6...</td>\n",
       "    </tr>\n",
       "    <tr>\n",
       "      <th>3</th>\n",
       "      <td>3</td>\n",
       "      <td>3</td>\n",
       "      <td>3</td>\n",
       "      <td>3</td>\n",
       "      <td>2296</td>\n",
       "      <td>2303</td>\n",
       "      <td>1-0</td>\n",
       "      <td>Queen's Pawn Game</td>\n",
       "      <td>London System</td>\n",
       "      <td>600.0</td>\n",
       "      <td>0.0</td>\n",
       "      <td>['0.25', '0.22', '0.0', '0.0', '0.0', '0.0', '...</td>\n",
       "      <td>['0:10:00', '0:10:00', '0:09:58', '0:09:57', '...</td>\n",
       "      <td>Resignation</td>\n",
       "      <td>1.d4 Nf6 2.Bf4 d5 3.Nf3 c5 4.e3 Nc6 5.Nbd2 e6 ...</td>\n",
       "    </tr>\n",
       "    <tr>\n",
       "      <th>4</th>\n",
       "      <td>4</td>\n",
       "      <td>4</td>\n",
       "      <td>4</td>\n",
       "      <td>4</td>\n",
       "      <td>1547</td>\n",
       "      <td>1560</td>\n",
       "      <td>0-1</td>\n",
       "      <td>Queen's Pawn Game</td>\n",
       "      <td>Mason Attack</td>\n",
       "      <td>600.0</td>\n",
       "      <td>0.0</td>\n",
       "      <td>['0.25', '0.25', '0.0', '0.37', '0.41', '0.54'...</td>\n",
       "      <td>['0:10:00', '0:10:00', '0:09:58', '0:09:56', '...</td>\n",
       "      <td>Resignation</td>\n",
       "      <td>1.d4 d5 2.Bf4 Nc6 3.e3 Nf6 4.Nf3 a6 5.c3 Bf5 6...</td>\n",
       "    </tr>\n",
       "  </tbody>\n",
       "</table>\n",
       "</div>"
      ],
      "text/plain": [
       "   Unnamed: 0  Unnamed: 0.1  Unnamed: 0.1.1  Unnamed: 0.1.1.1  White_Elo  \\\n",
       "0           0             0               0                 0       1791   \n",
       "1           1             1               1                 1       2120   \n",
       "2           2             2               2                 2       1457   \n",
       "3           3             3               3                 3       2296   \n",
       "4           4             4               4                 4       1547   \n",
       "\n",
       "   Black_Elo Result                 Opening  \\\n",
       "0       1829    1-0  Queen's Gambit Refused   \n",
       "1       2104    1-0        Sicilian Defense   \n",
       "2       1521    1-0        Sicilian Defense   \n",
       "3       2303    1-0       Queen's Pawn Game   \n",
       "4       1560    0-1       Queen's Pawn Game   \n",
       "\n",
       "                                         Variation  Time_Control  Increment  \\\n",
       "0                                 Marshall Defense         180.0        2.0   \n",
       "1   Smith-Morra Gambit Accepted, Paulsen Formation         300.0        0.0   \n",
       "2                                     Old Sicilian         600.0        0.0   \n",
       "3                                    London System         600.0        0.0   \n",
       "4                                     Mason Attack         600.0        0.0   \n",
       "\n",
       "                                          Evaluation  \\\n",
       "0  ['0.25', '0.25', '0.26', '0.78', '-0.08', '0.4...   \n",
       "1  ['0.24', '0.2', '0.21', '0.47', '0.22', '0.09'...   \n",
       "2  ['0.24', '0.2', '0.21', '0.08', '0.0', '0.0', ...   \n",
       "3  ['0.25', '0.22', '0.0', '0.0', '0.0', '0.0', '...   \n",
       "4  ['0.25', '0.25', '0.0', '0.37', '0.41', '0.54'...   \n",
       "\n",
       "                                       Players_Clock  Termination  \\\n",
       "0  ['0:03:00', '0:03:00', '0:03:01', '0:03:02', '...  Resignation   \n",
       "1  ['0:05:00', '0:05:00', '0:04:59', '0:04:59', '...    Checkmate   \n",
       "2  ['0:10:00', '0:10:00', '0:09:59', '0:09:59', '...    Checkmate   \n",
       "3  ['0:10:00', '0:10:00', '0:09:58', '0:09:57', '...  Resignation   \n",
       "4  ['0:10:00', '0:10:00', '0:09:58', '0:09:56', '...  Resignation   \n",
       "\n",
       "                                               Moves  \n",
       "0  1.d4 d5 2.c4 Nf6 3.Nc3 c6 4.Bg5 e6 5.f3 Be7 6....  \n",
       "1  1.e4 c5 2.Nf3 e6 3.d4 cxd4 4.c3 dxc3 5.Nxc3 Nc...  \n",
       "2  1.e4 c5 2.Nf3 Nc6 3.Bc4 e6 4.d4 a6 5.dxc5 d5 6...  \n",
       "3  1.d4 Nf6 2.Bf4 d5 3.Nf3 c5 4.e3 Nc6 5.Nbd2 e6 ...  \n",
       "4  1.d4 d5 2.Bf4 Nc6 3.e3 Nf6 4.Nf3 a6 5.c3 Bf5 6...  "
      ]
     },
     "execution_count": 2,
     "metadata": {},
     "output_type": "execute_result"
    }
   ],
   "source": [
    "games_df = pd.read_csv('games.zip',sep=';',compression = 'zip')\n",
    "games_df.head()"
   ]
  },
  {
   "cell_type": "code",
   "execution_count": 3,
   "metadata": {},
   "outputs": [
    {
     "name": "stdout",
     "output_type": "stream",
     "text": [
      "<class 'pandas.core.frame.DataFrame'>\n",
      "RangeIndex: 44199 entries, 0 to 44198\n",
      "Data columns (total 13 columns):\n",
      " #   Column            Non-Null Count  Dtype  \n",
      "---  ------            --------------  -----  \n",
      " 0   Unnamed: 0.1.1    44199 non-null  int64  \n",
      " 1   Unnamed: 0.1.1.1  44199 non-null  int64  \n",
      " 2   White_Elo         44199 non-null  int64  \n",
      " 3   Black_Elo         44199 non-null  int64  \n",
      " 4   Result            44199 non-null  object \n",
      " 5   Opening           44199 non-null  object \n",
      " 6   Variation         29336 non-null  object \n",
      " 7   Time_Control      44059 non-null  float64\n",
      " 8   Increment         44059 non-null  float64\n",
      " 9   Evaluation        44199 non-null  object \n",
      " 10  Players_Clock     44199 non-null  object \n",
      " 11  Termination       44199 non-null  object \n",
      " 12  Moves             44199 non-null  object \n",
      "dtypes: float64(2), int64(4), object(7)\n",
      "memory usage: 4.4+ MB\n"
     ]
    }
   ],
   "source": [
    "#Removing the two first columns originated from poor saving to csv\n",
    "games_df.drop(games_df.columns[[0,1]],axis = 1,inplace=True)\n",
    "games_df.info()\n"
   ]
  },
  {
   "cell_type": "markdown",
   "metadata": {},
   "source": [
    "About 15k of Variation is missing and we have some time control with increment also missing"
   ]
  },
  {
   "cell_type": "code",
   "execution_count": 4,
   "metadata": {},
   "outputs": [
    {
     "data": {
      "text/plain": [
       "<AxesSubplot:>"
      ]
     },
     "execution_count": 4,
     "metadata": {},
     "output_type": "execute_result"
    },
    {
     "data": {
      "image/png": "[encoded data removed]",
      "text/plain": [
       "<Figure size 1800x720 with 2 Axes>"
      ]
     },
     "metadata": {
      "needs_background": "light"
     },
     "output_type": "display_data"
    }
   ],
   "source": [
    "import missingno as msno\n",
    "msno.matrix(games_df)"
   ]
  },
  {
   "cell_type": "code",
   "execution_count": 5,
   "metadata": {},
   "outputs": [
    {
     "data": {
      "text/plain": [
       "<AxesSubplot:>"
      ]
     },
     "execution_count": 5,
     "metadata": {},
     "output_type": "execute_result"
    },
    {
     "data": {
      "image/png": "[encoded data removed]",
      "text/plain": [
       "<Figure size 576x288 with 2 Axes>"
      ]
     },
     "metadata": {
      "needs_background": "light"
     },
     "output_type": "display_data"
    }
   ],
   "source": [
    "\n",
    "msno.heatmap(games_df,figsize=(8,4))"
   ]
  },
  {
   "cell_type": "markdown",
   "metadata": {},
   "source": [
    "Time_control and Variation have a perfect correlation, I'll be removing all of them as is just a small part of the data. The varaiation missing is becuase they played the classical/mainlaine variation or a unknow variation,for these we are going to simply put a empty space string"
   ]
  },
  {
   "cell_type": "code",
   "execution_count": 6,
   "metadata": {},
   "outputs": [
    {
     "name": "stdout",
     "output_type": "stream",
     "text": [
      "<class 'pandas.core.frame.DataFrame'>\n",
      "RangeIndex: 44059 entries, 0 to 44058\n",
      "Data columns (total 13 columns):\n",
      " #   Column            Non-Null Count  Dtype  \n",
      "---  ------            --------------  -----  \n",
      " 0   Unnamed: 0.1.1    44059 non-null  int64  \n",
      " 1   Unnamed: 0.1.1.1  44059 non-null  int64  \n",
      " 2   White_Elo         44059 non-null  int64  \n",
      " 3   Black_Elo         44059 non-null  int64  \n",
      " 4   Result            44059 non-null  object \n",
      " 5   Opening           44059 non-null  object \n",
      " 6   Variation         44059 non-null  object \n",
      " 7   Time_Control      44059 non-null  float64\n",
      " 8   Increment         44059 non-null  float64\n",
      " 9   Evaluation        44059 non-null  object \n",
      " 10  Players_Clock     44059 non-null  object \n",
      " 11  Termination       44059 non-null  object \n",
      " 12  Moves             44059 non-null  object \n",
      "dtypes: float64(2), int64(4), object(7)\n",
      "memory usage: 4.4+ MB\n"
     ]
    }
   ],
   "source": [
    "games_df['Variation'].fillna('',inplace = True)\n",
    "games_df.dropna(inplace=True)\n",
    "games_df.reset_index(drop=True,inplace=True)\n",
    "games_df.info()"
   ]
  },
  {
   "cell_type": "code",
   "execution_count": 7,
   "metadata": {},
   "outputs": [
    {
     "data": {
      "text/html": [
       "<div>\n",
       "<style scoped>\n",
       "    .dataframe tbody tr th:only-of-type {\n",
       "        vertical-align: middle;\n",
       "    }\n",
       "\n",
       "    .dataframe tbody tr th {\n",
       "        vertical-align: top;\n",
       "    }\n",
       "\n",
       "    .dataframe thead th {\n",
       "        text-align: right;\n",
       "    }\n",
       "</style>\n",
       "<table border=\"1\" class=\"dataframe\">\n",
       "  <thead>\n",
       "    <tr style=\"text-align: right;\">\n",
       "      <th></th>\n",
       "      <th>Unnamed: 0.1.1</th>\n",
       "      <th>Unnamed: 0.1.1.1</th>\n",
       "      <th>White_Elo</th>\n",
       "      <th>Black_Elo</th>\n",
       "      <th>Time_Control</th>\n",
       "      <th>Increment</th>\n",
       "    </tr>\n",
       "  </thead>\n",
       "  <tbody>\n",
       "    <tr>\n",
       "      <th>count</th>\n",
       "      <td>44059.000000</td>\n",
       "      <td>44059.000000</td>\n",
       "      <td>44059.000000</td>\n",
       "      <td>44059.000000</td>\n",
       "      <td>44059.000000</td>\n",
       "      <td>44059.000000</td>\n",
       "    </tr>\n",
       "    <tr>\n",
       "      <th>mean</th>\n",
       "      <td>22091.921469</td>\n",
       "      <td>22091.921469</td>\n",
       "      <td>1591.501850</td>\n",
       "      <td>1591.950861</td>\n",
       "      <td>382.883179</td>\n",
       "      <td>2.585306</td>\n",
       "    </tr>\n",
       "    <tr>\n",
       "      <th>std</th>\n",
       "      <td>12760.417307</td>\n",
       "      <td>12760.417307</td>\n",
       "      <td>337.093955</td>\n",
       "      <td>336.413808</td>\n",
       "      <td>346.497234</td>\n",
       "      <td>5.205767</td>\n",
       "    </tr>\n",
       "    <tr>\n",
       "      <th>min</th>\n",
       "      <td>0.000000</td>\n",
       "      <td>0.000000</td>\n",
       "      <td>600.000000</td>\n",
       "      <td>600.000000</td>\n",
       "      <td>0.000000</td>\n",
       "      <td>0.000000</td>\n",
       "    </tr>\n",
       "    <tr>\n",
       "      <th>25%</th>\n",
       "      <td>11040.500000</td>\n",
       "      <td>11040.500000</td>\n",
       "      <td>1344.000000</td>\n",
       "      <td>1343.000000</td>\n",
       "      <td>180.000000</td>\n",
       "      <td>0.000000</td>\n",
       "    </tr>\n",
       "    <tr>\n",
       "      <th>50%</th>\n",
       "      <td>22091.000000</td>\n",
       "      <td>22091.000000</td>\n",
       "      <td>1581.000000</td>\n",
       "      <td>1583.000000</td>\n",
       "      <td>300.000000</td>\n",
       "      <td>0.000000</td>\n",
       "    </tr>\n",
       "    <tr>\n",
       "      <th>75%</th>\n",
       "      <td>33143.500000</td>\n",
       "      <td>33143.500000</td>\n",
       "      <td>1825.000000</td>\n",
       "      <td>1826.000000</td>\n",
       "      <td>600.000000</td>\n",
       "      <td>2.000000</td>\n",
       "    </tr>\n",
       "    <tr>\n",
       "      <th>max</th>\n",
       "      <td>44198.000000</td>\n",
       "      <td>44198.000000</td>\n",
       "      <td>2882.000000</td>\n",
       "      <td>2882.000000</td>\n",
       "      <td>10800.000000</td>\n",
       "      <td>180.000000</td>\n",
       "    </tr>\n",
       "  </tbody>\n",
       "</table>\n",
       "</div>"
      ],
      "text/plain": [
       "       Unnamed: 0.1.1  Unnamed: 0.1.1.1     White_Elo     Black_Elo  \\\n",
       "count    44059.000000      44059.000000  44059.000000  44059.000000   \n",
       "mean     22091.921469      22091.921469   1591.501850   1591.950861   \n",
       "std      12760.417307      12760.417307    337.093955    336.413808   \n",
       "min          0.000000          0.000000    600.000000    600.000000   \n",
       "25%      11040.500000      11040.500000   1344.000000   1343.000000   \n",
       "50%      22091.000000      22091.000000   1581.000000   1583.000000   \n",
       "75%      33143.500000      33143.500000   1825.000000   1826.000000   \n",
       "max      44198.000000      44198.000000   2882.000000   2882.000000   \n",
       "\n",
       "       Time_Control     Increment  \n",
       "count  44059.000000  44059.000000  \n",
       "mean     382.883179      2.585306  \n",
       "std      346.497234      5.205767  \n",
       "min        0.000000      0.000000  \n",
       "25%      180.000000      0.000000  \n",
       "50%      300.000000      0.000000  \n",
       "75%      600.000000      2.000000  \n",
       "max    10800.000000    180.000000  "
      ]
     },
     "execution_count": 7,
     "metadata": {},
     "output_type": "execute_result"
    }
   ],
   "source": [
    "games_df.describe()"
   ]
  },
  {
   "cell_type": "markdown",
   "metadata": {},
   "source": [
    "Time control has a min value of 0, which doesn't make sense for a match to have 0 minutes, all other variables seems fine"
   ]
  },
  {
   "cell_type": "code",
   "execution_count": 8,
   "metadata": {},
   "outputs": [
    {
     "data": {
      "text/html": [
       "<div>\n",
       "<style scoped>\n",
       "    .dataframe tbody tr th:only-of-type {\n",
       "        vertical-align: middle;\n",
       "    }\n",
       "\n",
       "    .dataframe tbody tr th {\n",
       "        vertical-align: top;\n",
       "    }\n",
       "\n",
       "    .dataframe thead th {\n",
       "        text-align: right;\n",
       "    }\n",
       "</style>\n",
       "<table border=\"1\" class=\"dataframe\">\n",
       "  <thead>\n",
       "    <tr style=\"text-align: right;\">\n",
       "      <th></th>\n",
       "      <th>Unnamed: 0.1.1</th>\n",
       "      <th>Unnamed: 0.1.1.1</th>\n",
       "      <th>White_Elo</th>\n",
       "      <th>Black_Elo</th>\n",
       "      <th>Result</th>\n",
       "      <th>Opening</th>\n",
       "      <th>Variation</th>\n",
       "      <th>Time_Control</th>\n",
       "      <th>Increment</th>\n",
       "      <th>Evaluation</th>\n",
       "      <th>Players_Clock</th>\n",
       "      <th>Termination</th>\n",
       "      <th>Moves</th>\n",
       "    </tr>\n",
       "  </thead>\n",
       "  <tbody>\n",
       "    <tr>\n",
       "      <th>1457</th>\n",
       "      <td>1461</td>\n",
       "      <td>1461</td>\n",
       "      <td>2425</td>\n",
       "      <td>2312</td>\n",
       "      <td>1-0</td>\n",
       "      <td>Queen's Pawn Game</td>\n",
       "      <td>Zukertort Variation</td>\n",
       "      <td>0.0</td>\n",
       "      <td>1.0</td>\n",
       "      <td>['0.06', '0.25', '0.0', '0.35', '0.09', '0.23'...</td>\n",
       "      <td>['0:00:03', '0:00:03', '0:00:03', '0:00:03', '...</td>\n",
       "      <td>Time forfeit</td>\n",
       "      <td>1.Nf3 d5 2.d4 c6 3.Bg5 h6 4.Bh4 g5 5.Bg3 Bg7 6...</td>\n",
       "    </tr>\n",
       "    <tr>\n",
       "      <th>1705</th>\n",
       "      <td>1709</td>\n",
       "      <td>1709</td>\n",
       "      <td>1390</td>\n",
       "      <td>1363</td>\n",
       "      <td>0-1</td>\n",
       "      <td>Ponziani Opening</td>\n",
       "      <td>Jaenisch Counterattack</td>\n",
       "      <td>0.0</td>\n",
       "      <td>10.0</td>\n",
       "      <td>['0.24', '0.37', '0.26', '0.15', '-0.09', '0.0...</td>\n",
       "      <td>['0:00:10', '0:00:10', '0:00:19', '0:00:20', '...</td>\n",
       "      <td>Checkmate</td>\n",
       "      <td>1.e4 e5 2.Nf3 Nc6 3.c3 Nf6 4.Bd3 Bc5 5.O-O d6 ...</td>\n",
       "    </tr>\n",
       "    <tr>\n",
       "      <th>2715</th>\n",
       "      <td>2720</td>\n",
       "      <td>2720</td>\n",
       "      <td>1803</td>\n",
       "      <td>1388</td>\n",
       "      <td>1-0</td>\n",
       "      <td>Scandinavian Defense</td>\n",
       "      <td>Mieses-Kotroc Variation</td>\n",
       "      <td>0.0</td>\n",
       "      <td>3.0</td>\n",
       "      <td>['0.24', '0.53', '0.45', '0.71', '0.44', '0.72...</td>\n",
       "      <td>['0:00:03', '0:00:03', '0:00:05', '0:00:05', '...</td>\n",
       "      <td>Checkmate</td>\n",
       "      <td>1.e4 d5 2.exd5 Qxd5 3.Nf3 Qe6+ 4.Be2 Qe5 5.d4 ...</td>\n",
       "    </tr>\n",
       "    <tr>\n",
       "      <th>2836</th>\n",
       "      <td>2841</td>\n",
       "      <td>2841</td>\n",
       "      <td>1835</td>\n",
       "      <td>1333</td>\n",
       "      <td>1-0</td>\n",
       "      <td>Caro-Kann Defense</td>\n",
       "      <td>Accelerated Panov Attack, Modern Variation</td>\n",
       "      <td>0.0</td>\n",
       "      <td>2.0</td>\n",
       "      <td>['0.24', '0.23', '0.15', '-0.07', '0.0', '0.28...</td>\n",
       "      <td>['0:00:03', '0:00:03', '0:00:04', '0:00:04', '...</td>\n",
       "      <td>Checkmate</td>\n",
       "      <td>1.e4 c6 2.c4 d5 3.cxd5 cxd5 4.exd5 Nf6 5.Nc3 N...</td>\n",
       "    </tr>\n",
       "    <tr>\n",
       "      <th>2920</th>\n",
       "      <td>2925</td>\n",
       "      <td>2925</td>\n",
       "      <td>1805</td>\n",
       "      <td>1386</td>\n",
       "      <td>1-0</td>\n",
       "      <td>French Defense</td>\n",
       "      <td></td>\n",
       "      <td>0.0</td>\n",
       "      <td>3.0</td>\n",
       "      <td>['0.24', '0.3', '-0.24', '0.23', '-1.02', '-0....</td>\n",
       "      <td>['0:00:03', '0:00:03', '0:00:05', '0:00:06', '...</td>\n",
       "      <td>Resignation</td>\n",
       "      <td>1.e4 e6 2.Bc4 Be7 3.f4 c6 4.Nf3 a6 5.O-O b5 6....</td>\n",
       "    </tr>\n",
       "  </tbody>\n",
       "</table>\n",
       "</div>"
      ],
      "text/plain": [
       "      Unnamed: 0.1.1  Unnamed: 0.1.1.1  White_Elo  Black_Elo Result  \\\n",
       "1457            1461              1461       2425       2312    1-0   \n",
       "1705            1709              1709       1390       1363    0-1   \n",
       "2715            2720              2720       1803       1388    1-0   \n",
       "2836            2841              2841       1835       1333    1-0   \n",
       "2920            2925              2925       1805       1386    1-0   \n",
       "\n",
       "                   Opening                                    Variation  \\\n",
       "1457     Queen's Pawn Game                          Zukertort Variation   \n",
       "1705      Ponziani Opening                       Jaenisch Counterattack   \n",
       "2715  Scandinavian Defense                      Mieses-Kotroc Variation   \n",
       "2836     Caro-Kann Defense   Accelerated Panov Attack, Modern Variation   \n",
       "2920        French Defense                                                \n",
       "\n",
       "      Time_Control  Increment  \\\n",
       "1457           0.0        1.0   \n",
       "1705           0.0       10.0   \n",
       "2715           0.0        3.0   \n",
       "2836           0.0        2.0   \n",
       "2920           0.0        3.0   \n",
       "\n",
       "                                             Evaluation  \\\n",
       "1457  ['0.06', '0.25', '0.0', '0.35', '0.09', '0.23'...   \n",
       "1705  ['0.24', '0.37', '0.26', '0.15', '-0.09', '0.0...   \n",
       "2715  ['0.24', '0.53', '0.45', '0.71', '0.44', '0.72...   \n",
       "2836  ['0.24', '0.23', '0.15', '-0.07', '0.0', '0.28...   \n",
       "2920  ['0.24', '0.3', '-0.24', '0.23', '-1.02', '-0....   \n",
       "\n",
       "                                          Players_Clock   Termination  \\\n",
       "1457  ['0:00:03', '0:00:03', '0:00:03', '0:00:03', '...  Time forfeit   \n",
       "1705  ['0:00:10', '0:00:10', '0:00:19', '0:00:20', '...     Checkmate   \n",
       "2715  ['0:00:03', '0:00:03', '0:00:05', '0:00:05', '...     Checkmate   \n",
       "2836  ['0:00:03', '0:00:03', '0:00:04', '0:00:04', '...     Checkmate   \n",
       "2920  ['0:00:03', '0:00:03', '0:00:05', '0:00:06', '...   Resignation   \n",
       "\n",
       "                                                  Moves  \n",
       "1457  1.Nf3 d5 2.d4 c6 3.Bg5 h6 4.Bh4 g5 5.Bg3 Bg7 6...  \n",
       "1705  1.e4 e5 2.Nf3 Nc6 3.c3 Nf6 4.Bd3 Bc5 5.O-O d6 ...  \n",
       "2715  1.e4 d5 2.exd5 Qxd5 3.Nf3 Qe6+ 4.Be2 Qe5 5.d4 ...  \n",
       "2836  1.e4 c6 2.c4 d5 3.cxd5 cxd5 4.exd5 Nf6 5.Nc3 N...  \n",
       "2920  1.e4 e6 2.Bc4 Be7 3.f4 c6 4.Nf3 a6 5.O-O b5 6....  "
      ]
     },
     "execution_count": 8,
     "metadata": {},
     "output_type": "execute_result"
    }
   ],
   "source": [
    "games_df[games_df['Time_Control']==0].head()"
   ]
  },
  {
   "cell_type": "markdown",
   "metadata": {},
   "source": [
    "Let's take a look at players clock in some of theses games"
   ]
  },
  {
   "cell_type": "code",
   "execution_count": 9,
   "metadata": {},
   "outputs": [
    {
     "data": {
      "text/plain": [
       "1457    ['0:00:03', '0:00:03', '0:00:03', '0:00:03', '...\n",
       "1705    ['0:00:10', '0:00:10', '0:00:19', '0:00:20', '...\n",
       "2715    ['0:00:03', '0:00:03', '0:00:05', '0:00:05', '...\n",
       "2836    ['0:00:03', '0:00:03', '0:00:04', '0:00:04', '...\n",
       "2920    ['0:00:03', '0:00:03', '0:00:05', '0:00:06', '...\n",
       "Name: Players_Clock, dtype: object"
      ]
     },
     "execution_count": 9,
     "metadata": {},
     "output_type": "execute_result"
    }
   ],
   "source": [
    "games_df.Players_Clock[games_df['Time_Control']==0].head()"
   ]
  },
  {
   "cell_type": "markdown",
   "metadata": {},
   "source": [
    "These matches appear to start with seconds for each player, I  created a custom mathc at lichess with starting time of 0 and 8 second of increment and looked at the pgn of the match, the time control was O, so that's explain why. Later it might be interesting to compare the data of this games with the data. <br>\n",
    "<br>\n",
    "Now let's take a look at number of moves of each game"
   ]
  },
  {
   "cell_type": "code",
   "execution_count": null,
   "metadata": {},
   "outputs": [],
   "source": []
  },
  {
   "cell_type": "code",
   "execution_count": 10,
   "metadata": {},
   "outputs": [
    {
     "data": {
      "text/plain": [
       "count    44059.000000\n",
       "mean        31.812978\n",
       "std         13.206657\n",
       "min          3.000000\n",
       "25%         23.000000\n",
       "50%         29.000000\n",
       "75%         38.000000\n",
       "max        160.000000\n",
       "Name: N_Moves, dtype: float64"
      ]
     },
     "execution_count": 10,
     "metadata": {},
     "output_type": "execute_result"
    }
   ],
   "source": [
    "games_df['N_Moves'] = games_df['Moves'].apply(lambda row: len(row.split(' ')[::2]))\n",
    "games_df['N_Moves'].describe()\n",
    "    "
   ]
  },
  {
   "cell_type": "code",
   "execution_count": 11,
   "metadata": {},
   "outputs": [
    {
     "data": {
      "text/plain": [
       "Sicilian Defense                                             5747\n",
       "Queen's Pawn Game                                            3113\n",
       "French Defense                                               2777\n",
       "Scandinavian Defense                                         1969\n",
       "Italian Game                                                 1806\n",
       "                                                             ... \n",
       "Evans Gambit, Leonhardt Countergambit                           1\n",
       "King's Gambit Accepted, Gianutio Countergambit                  1\n",
       "Evans Gambit, Laroche Variation                                 1\n",
       "Evans Gambit, Mieses Defense                                    1\n",
       "Blackmar-Diemer Gambit Declined, Brombacher Countergambit       1\n",
       "Name: Opening, Length: 236, dtype: int64"
      ]
     },
     "execution_count": 11,
     "metadata": {},
     "output_type": "execute_result"
    }
   ],
   "source": [
    "games_df['Opening'].value_counts()"
   ]
  },
  {
   "cell_type": "markdown",
   "metadata": {},
   "source": [
    "Sicilian Defense is the most played opening in the dataset, followed by the Queen' Pawn Game. We can also see that some opening still have their variaton(i.e: Evans Gambit, McDonnell Defense, Main Line), meaning that we were unnable to catch those in previous cleaning"
   ]
  },
  {
   "cell_type": "code",
   "execution_count": 12,
   "metadata": {},
   "outputs": [
    {
     "data": {
      "text/plain": [
       "Sicilian Defense                                             5747\n",
       "Queen's Pawn Game                                            3113\n",
       "French Defense                                               2777\n",
       "Scandinavian Defense                                         1969\n",
       "Italian Game                                                 1806\n",
       "                                                             ... \n",
       "Evans Gambit, Leonhardt Countergambit                           1\n",
       "King's Gambit Accepted, Gianutio Countergambit                  1\n",
       "Evans Gambit, Laroche Variation                                 1\n",
       "Evans Gambit, Mieses Defense                                    1\n",
       "Blackmar-Diemer Gambit Declined, Brombacher Countergambit       1\n",
       "Name: Opening, Length: 236, dtype: int64"
      ]
     },
     "execution_count": 12,
     "metadata": {},
     "output_type": "execute_result"
    }
   ],
   "source": [
    "openings = games_df['Opening'].to_numpy()\n",
    "for i,opn in enumerate(openings):\n",
    "    match= re.search(r'.+,(.+)',opn)\n",
    "    if match:\n",
    "        opening=match.group(0)\n",
    "        variation = match.group(1)\n",
    "        games_df.at[i,'Opening'] = opening\n",
    "        games_df.at[i,'Variation'] = variation\n",
    "games_df['Opening'].value_counts()  "
   ]
  },
  {
   "cell_type": "markdown",
   "metadata": {},
   "source": [
    "Let's see if that makes a difference in the variation that were missing. Remember that we had 15173 missing variations"
   ]
  },
  {
   "cell_type": "code",
   "execution_count": 13,
   "metadata": {},
   "outputs": [
    {
     "data": {
      "text/plain": [
       "13969"
      ]
     },
     "execution_count": 13,
     "metadata": {},
     "output_type": "execute_result"
    }
   ],
   "source": [
    "len(games_df.Variation[games_df['Variation']==''])"
   ]
  },
  {
   "cell_type": "code",
   "execution_count": 14,
   "metadata": {},
   "outputs": [
    {
     "data": {
      "text/plain": [
       "1-0    22102\n",
       "0-1    20718\n",
       "2-1     1204\n",
       "0-0        6\n",
       "1-1        5\n",
       "9-2        3\n",
       "2-2        3\n",
       "1-2        2\n",
       "7-1        2\n",
       "6-9        2\n",
       "0-2        2\n",
       "0-4        1\n",
       "5-2        1\n",
       "8-9        1\n",
       "9-9        1\n",
       "3-2        1\n",
       "8-4        1\n",
       "1-4        1\n",
       "5-9        1\n",
       "7-0        1\n",
       "6-0        1\n",
       "Name: Result, dtype: int64"
      ]
     },
     "execution_count": 14,
     "metadata": {},
     "output_type": "execute_result"
    }
   ],
   "source": [
    "games_df['Result'].value_counts()"
   ]
  },
  {
   "cell_type": "markdown",
   "metadata": {},
   "source": [
    "Three unexpected things in the result data, first the lack of scores with 0.5 or 1/2(the ammount awarded for a draw),the scores that imply more than one game, and the 0-0 scores. The secong is probably because the pgn gets the result of the match rather than that of the single game(a match being multiple games played in a row by the same players), the 0-0 score I have no idea."
   ]
  },
  {
   "cell_type": "markdown",
   "metadata": {},
   "source": [
    "The first one, the lack of draw scores worries me, I expected to have fewer number of draws, those familiar with chess know that draws are more common among higher rated players which are smaller number of the population(we will se if thats true for these games) and rare in lower ratings. But to have zero is an anomaly. "
   ]
  },
  {
   "cell_type": "markdown",
   "metadata": {},
   "source": [
    "I believe three things might explain these, the first one is my method for choosing games in the database, I chose games that were one of the players requested a computer analysis after the match to study it, and you usually analise games that you've lost, so these would make draws ene less common, another one is that draws migh be hidden in the multiple games match, if in the match players tied twice you would have a whole number, but it's unlikely that all draws are only in matches and not in single games,a third factor could be the way lichess store it games, if the billions of games in the database are store in a way where decisive result(wins) come before draws, due to teh fact that i only parsed through a small fraction of games, I would not have gathered draws. "
   ]
  },
  {
   "cell_type": "markdown",
   "metadata": {},
   "source": [
    "Thats unfotunate as I belived draws would be a important predictor, due to the discrepancy between its occurance among lower and higher rated players"
   ]
  },
  {
   "cell_type": "code",
   "execution_count": 15,
   "metadata": {},
   "outputs": [],
   "source": [
    "#I'm just goin to drop the matches results as they represent a small part of the data (less than 3%)\n",
    "matches= games_df[(games_df['Result'] != '1-0') & (games_df['Result']!='0-1')].index\n",
    "games_df =games_df.drop(index=matches)\n",
    "games_df.reset_index(drop=True,inplace=True)\n"
   ]
  },
  {
   "cell_type": "markdown",
   "metadata": {},
   "source": [
    "Our player clock is in string format but we are going to need it in a time format for calculations. But before converting it to datetime we need to separate each players clock"
   ]
  },
  {
   "cell_type": "code",
   "execution_count": 16,
   "metadata": {},
   "outputs": [],
   "source": [
    "import ast\n",
    "from datetime import datetime\n",
    "clocks =games_df['Players_Clock']\n",
    "w_clocks,w_clocks_dt,b_clocks,b_clocks_dt=([] for i in range(4))\n",
    "for clock in clocks:\n",
    "        clock=ast.literal_eval(clock)\n",
    "        w_clock = clock[::2]\n",
    "        b_clock = clock[1::2]\n",
    "        w_clocks.append(w_clock)\n",
    "        w_clocks_dt.append([datetime.strptime(i,'%H:%M:%S') for i in w_clock])\n",
    "        b_clocks.append(b_clock)\n",
    "        b_clocks_dt.append([datetime.strptime(i,'%H:%M:%S') for i in b_clock])"
   ]
  },
  {
   "cell_type": "code",
   "execution_count": 17,
   "metadata": {},
   "outputs": [],
   "source": [
    "games_df['W_Clock']=w_clocks\n",
    "games_df['B_Clock']=b_clocks\n",
    "games_df['W_Clock_DT']=w_clocks_dt\n",
    "games_df['B_Clock_DT']=b_clocks_dt"
   ]
  },
  {
   "cell_type": "markdown",
   "metadata": {},
   "source": [
    "We want the time to analyse the average time per move a player spends in the game, in the oppening and towards the end(for that We'll use the last 10 moves), but it is common for games to get to lower clock time for one or both players towards the end, so in these time scramble situation the player will be playing faster,for now I'll just create a binary variable for time scramble"
   ]
  },
  {
   "cell_type": "code",
   "execution_count": 18,
   "metadata": {},
   "outputs": [
    {
     "data": {
      "text/html": [
       "<div>\n",
       "<style scoped>\n",
       "    .dataframe tbody tr th:only-of-type {\n",
       "        vertical-align: middle;\n",
       "    }\n",
       "\n",
       "    .dataframe tbody tr th {\n",
       "        vertical-align: top;\n",
       "    }\n",
       "\n",
       "    .dataframe thead th {\n",
       "        text-align: right;\n",
       "    }\n",
       "</style>\n",
       "<table border=\"1\" class=\"dataframe\">\n",
       "  <thead>\n",
       "    <tr style=\"text-align: right;\">\n",
       "      <th></th>\n",
       "      <th>White_Move_Time</th>\n",
       "      <th>Black_Move_Time</th>\n",
       "    </tr>\n",
       "  </thead>\n",
       "  <tbody>\n",
       "    <tr>\n",
       "      <th>0</th>\n",
       "      <td>[0, 1, 1, 2, 6, 2, 2, 0, 4, 3, 4, 10, 5, 9, 1,...</td>\n",
       "      <td>[0, 0, 1, 1, 1, 1, 2, 1, 4, 4, 4, 7, 4, 3, 3, ...</td>\n",
       "    </tr>\n",
       "    <tr>\n",
       "      <th>1</th>\n",
       "      <td>[0, 1, 1, 0, 0, 1, 1, 1, 10, 2, 3, 1, 1, 1, 1,...</td>\n",
       "      <td>[0, 1, 0, 2, 2, 1, 3, 3, 2, 9, 2, 3, 2, 12, 8,...</td>\n",
       "    </tr>\n",
       "    <tr>\n",
       "      <th>2</th>\n",
       "      <td>[0, 1, 5, 4, 2, 2, 10, 11, 3, 5, 6, 4, 3]</td>\n",
       "      <td>[0, 1, 2, 1, 4, 1, 2, 8, 2, 2, 5, 6]</td>\n",
       "    </tr>\n",
       "    <tr>\n",
       "      <th>3</th>\n",
       "      <td>[0, 2, 1, 2, 5, 2, 3, 1, 3, 4, 3, 1, 14, 11, 3...</td>\n",
       "      <td>[0, 3, 1, 3, 3, 3, 3, 4, 7, 1, 1, 22, 3, 30, 1...</td>\n",
       "    </tr>\n",
       "    <tr>\n",
       "      <th>4</th>\n",
       "      <td>[0, 2, 3, 2, 2, 2, 0, 7, 11, 4, 13, 4, 5, 1, 8...</td>\n",
       "      <td>[0, 4, 3, 2, 4, 3, 2, 3, 3, 7, 9, 3, 2, 1, 3, ...</td>\n",
       "    </tr>\n",
       "  </tbody>\n",
       "</table>\n",
       "</div>"
      ],
      "text/plain": [
       "                                     White_Move_Time  \\\n",
       "0  [0, 1, 1, 2, 6, 2, 2, 0, 4, 3, 4, 10, 5, 9, 1,...   \n",
       "1  [0, 1, 1, 0, 0, 1, 1, 1, 10, 2, 3, 1, 1, 1, 1,...   \n",
       "2          [0, 1, 5, 4, 2, 2, 10, 11, 3, 5, 6, 4, 3]   \n",
       "3  [0, 2, 1, 2, 5, 2, 3, 1, 3, 4, 3, 1, 14, 11, 3...   \n",
       "4  [0, 2, 3, 2, 2, 2, 0, 7, 11, 4, 13, 4, 5, 1, 8...   \n",
       "\n",
       "                                     Black_Move_Time  \n",
       "0  [0, 0, 1, 1, 1, 1, 2, 1, 4, 4, 4, 7, 4, 3, 3, ...  \n",
       "1  [0, 1, 0, 2, 2, 1, 3, 3, 2, 9, 2, 3, 2, 12, 8,...  \n",
       "2               [0, 1, 2, 1, 4, 1, 2, 8, 2, 2, 5, 6]  \n",
       "3  [0, 3, 1, 3, 3, 3, 3, 4, 7, 1, 1, 22, 3, 30, 1...  \n",
       "4  [0, 4, 3, 2, 4, 3, 2, 3, 3, 7, 9, 3, 2, 1, 3, ...  "
      ]
     },
     "execution_count": 18,
     "metadata": {},
     "output_type": "execute_result"
    }
   ],
   "source": [
    "from datetime import timedelta\n",
    "def calc_move_time(clock,increment):\n",
    "    move_time=[0]\n",
    "    previous = clock[0]\n",
    "    for time in clock[1:]:\n",
    "        delta = time-previous\n",
    "        #because it's a countdown the delta will be negative and we have to correct for it and the time increment\n",
    "        if delta.seconds > 40000:\n",
    "            delta = timedelta(seconds =increment+(86400-delta.seconds))\n",
    "        else:\n",
    "            if increment !=0:\n",
    "                delta = timedelta(seconds=increment-delta.seconds)\n",
    "        move_time.append((delta.seconds))\n",
    "        previous=time\n",
    "    return move_time\n",
    "inc_lst = games_df['Increment']\n",
    "games_df['White_Move_Time'] = [calc_move_time(clock, increment) for clock,increment in zip(w_clocks_dt,inc_lst)]\n",
    "games_df['Black_Move_Time'] = [calc_move_time(clock, increment) for clock,increment in zip(b_clocks_dt,inc_lst)]\n",
    "games_df[['White_Move_Time','Black_Move_Time']].head()\n",
    "       "
   ]
  },
  {
   "cell_type": "code",
   "execution_count": 19,
   "metadata": {},
   "outputs": [
    {
     "name": "stdout",
     "output_type": "stream",
     "text": [
      "\t\tWhite_Move_Time\t\tBlack_Move_time\n",
      "avg\t\t22.159776592772058\t20.896668393545184\n",
      "\n",
      "std\t\t337.140143145694\t267.26839814508514\n",
      "\n",
      "max\t\t\t86399\t\t\t86399\n",
      "\n",
      "min\t\t\t0\t\t\t0\n",
      "\n"
     ]
    }
   ],
   "source": [
    "w_move_time=games_df['White_Move_Time']\n",
    "b_move_time=games_df['Black_Move_Time']\n",
    "w_mean_lst= [np.mean(move_time) for move_time in w_move_time]\n",
    "b_mean_lst= [np.mean(move_time) for move_time in b_move_time]\n",
    "w_avg = np.mean(w_mean_lst)\n",
    "w_std = np.std(w_mean_lst)\n",
    "w_max = np.max([np.max(move_time) for move_time in w_move_time])\n",
    "w_min = np.min([np.min(move_time) for move_time in w_move_time])\n",
    "b_avg = np.mean(b_mean_lst)\n",
    "b_std = np.std(b_mean_lst)\n",
    "b_max = np.max([np.max(move_time) for move_time in b_move_time])\n",
    "b_min = np.min([np.min(move_time) for move_time in b_move_time])\n",
    "# Could not find a way to calculate the standard variation\n",
    "\n",
    "print(f\"\"\"\\t\\tWhite_Move_Time\\t\\tBlack_Move_time\n",
    "avg\\t\\t{w_avg}\\t{b_avg}\n",
    "\n",
    "std\\t\\t{w_std}\\t{b_std}\n",
    "\n",
    "max\\t\\t\\t{w_max}\\t\\t\\t{b_max}\n",
    "\n",
    "min\\t\\t\\t{w_min}\\t\\t\\t{w_min}\n",
    "\"\"\")"
   ]
  },
  {
   "cell_type": "markdown",
   "metadata": {},
   "source": [
    "No time lower than 0 but the max values are way to high. After investigating it further it appears that in some cases the clock incorrectly gains more time than the increment creating a negative delta resulting in this high ammount of seconds. To  correct that we can simply substitue the values to 0, as that would mean that the time they gained was equal to the increment meaning they pre-moved."
   ]
  },
  {
   "cell_type": "code",
   "execution_count": 20,
   "metadata": {},
   "outputs": [
    {
     "name": "stderr",
     "output_type": "stream",
     "text": [
      "C:\\Users\\guilh\\anaconda3\\lib\\site-packages\\numpy\\core\\_asarray.py:102: VisibleDeprecationWarning: Creating an ndarray from ragged nested sequences (which is a list-or-tuple of lists-or-tuples-or ndarrays with different lengths or shapes) is deprecated. If you meant to do this, you must specify 'dtype=object' when creating the ndarray.\n",
      "  return array(a, dtype, copy=False, order=order)\n",
      "C:\\Users\\guilh\\anaconda3\\lib\\site-packages\\pandas\\core\\internals\\blocks.py:993: VisibleDeprecationWarning: Creating an ndarray from ragged nested sequences (which is a list-or-tuple of lists-or-tuples-or ndarrays with different lengths or shapes) is deprecated. If you meant to do this, you must specify 'dtype=object' when creating the ndarray.\n",
      "  arr_value = np.array(value)\n"
     ]
    }
   ],
   "source": [
    "def fix_time(lst, col):\n",
    "    index = [i for i,value in enumerate(lst) if value>40000 ]\n",
    "    time_lst= games_df[col][index].to_numpy(dtype='object')#getting the rows with high max values\n",
    "    sub={True:0}\n",
    "    time_lst = [[sub.get(t>80000,t) for t in time]for time in time_lst]\n",
    "    games_df.iloc[index, games_df.columns.get_loc(col)] = time_lst\n",
    "    \n",
    "    \n",
    "w_max_lst=[np.max(move_time) for move_time in w_move_time]\n",
    "b_max_lst=[np.max(move_time) for move_time in b_move_time]\n",
    "fix_time(w_max_lst,'White_Move_Time')\n",
    "fix_time(b_max_lst,'Black_Move_Time')"
   ]
  },
  {
   "cell_type": "code",
   "execution_count": 21,
   "metadata": {},
   "outputs": [
    {
     "name": "stdout",
     "output_type": "stream",
     "text": [
      "\t\tWhite_Move_Time\t\tBlack_Move_time\n",
      "avg\t\t7.555765106849049\t7.697418499413766\n",
      "\n",
      "std\t\t6.989155073647478\t7.164875716072837\n",
      "\n",
      "max\t\t\t2511\t\t\t3061\n",
      "\n",
      "min\t\t\t0\t\t\t0\n",
      "\n"
     ]
    }
   ],
   "source": [
    "w_move_time=games_df['White_Move_Time']\n",
    "b_move_time=games_df['Black_Move_Time']\n",
    "w_mean_lst= [np.mean(move_time) for move_time in w_move_time]\n",
    "b_mean_lst= [np.mean(move_time) for move_time in b_move_time]\n",
    "w_avg = np.mean(w_mean_lst)\n",
    "w_std = np.std(w_mean_lst)\n",
    "w_max = np.max([np.max(move_time) for move_time in w_move_time])\n",
    "w_min = np.min([np.min(move_time) for move_time in w_move_time])\n",
    "b_avg = np.mean(b_mean_lst)\n",
    "b_std = np.std(b_mean_lst)\n",
    "b_max = np.max([np.max(move_time) for move_time in b_move_time])\n",
    "b_min = np.min([np.min(move_time) for move_time in b_move_time])\n",
    "# Could not find a way to calculate the standard variation\n",
    "\n",
    "print(f\"\"\"\\t\\tWhite_Move_Time\\t\\tBlack_Move_time\n",
    "avg\\t\\t{w_avg}\\t{b_avg}\n",
    "\n",
    "std\\t\\t{w_std}\\t{b_std}\n",
    "\n",
    "max\\t\\t\\t{w_max}\\t\\t\\t{b_max}\n",
    "\n",
    "min\\t\\t\\t{w_min}\\t\\t\\t{w_min}\n",
    "\"\"\")"
   ]
  },
  {
   "cell_type": "markdown",
   "metadata": {},
   "source": [
    "To see how much time a player spend in the oppening. (In cases when we don't have the oppening we will the average of number of moves. For that we first need to make sure that openings names are the same between both datasets. The openings data set use the following pattern: \"Opening:Variation:Variation\", so we will use this pattern to create a unified opening collumn. I'll also remove the word \"Variation\" in both datasets, as it's present in some but not others, and add \"General\" to the ones without variation"
   ]
  },
  {
   "cell_type": "code",
   "execution_count": 22,
   "metadata": {},
   "outputs": [],
   "source": [
    "def uni_open(row):\n",
    "    opening = row['Opening']\n",
    "    variation=row['Variation'].replace(',',':').replace('Variation','')[1:]\n",
    "    if variation != '':\n",
    "        return ':'.join([opening,variation])\n",
    "    else:\n",
    "        return ':'.join([opening,'General'])\n",
    "        \n",
    "    \n",
    "games_df['Uni_Opening']=games_df.apply(uni_open,axis=1)"
   ]
  },
  {
   "cell_type": "code",
   "execution_count": 23,
   "metadata": {},
   "outputs": [],
   "source": [
    "openings_df=pd.read_csv('openings.csv')\n",
    "\n",
    "def clean_open(opening):\n",
    "    return re.sub(r':{1,4}$','',opening).replace('Variation','').strip()\n",
    "\n",
    "openings_df['C_Opening'] = openings_df['name'].apply(clean_open)\n",
    "\n",
    "def open_moves(opening):\n",
    "    last_move = re.search(r'(\\d{1,2}\\..+)\\s(\\d{1,2})\\..+$',opening)\n",
    "    count = int(last_move.group(2)) if last_move else 1\n",
    "    return count\n",
    "\n",
    "openings_df['Move_Count'] = openings_df['moves_san'].apply(open_moves)"
   ]
  },
  {
   "cell_type": "code",
   "execution_count": 24,
   "metadata": {},
   "outputs": [
    {
     "data": {
      "text/plain": [
       "count    42820.000000\n",
       "mean         3.249580\n",
       "std          1.141517\n",
       "min          1.000000\n",
       "25%          3.000000\n",
       "50%          4.000000\n",
       "75%          4.000000\n",
       "max          9.000000\n",
       "Name: Open_N_Moves, dtype: float64"
      ]
     },
     "execution_count": 24,
     "metadata": {},
     "output_type": "execute_result"
    }
   ],
   "source": [
    "avg_move_count = openings_df['Move_Count'].mean()\n",
    "openings = set(openings_df['C_Opening'].to_list())\n",
    "def count_open_moves(row):\n",
    "    if row in openings:\n",
    "        return openings_df.loc[openings_df['C_Opening']==row, 'Move_Count'].values[0]\n",
    "    else:\n",
    "        return int(avg_move_count)\n",
    "games_df['Open_N_Moves']=games_df['Uni_Opening'].apply(count_open_moves)\n",
    "games_df['Open_N_Moves'].describe()"
   ]
  },
  {
   "cell_type": "code",
   "execution_count": 25,
   "metadata": {},
   "outputs": [
    {
     "data": {
      "text/html": [
       "<div>\n",
       "<style scoped>\n",
       "    .dataframe tbody tr th:only-of-type {\n",
       "        vertical-align: middle;\n",
       "    }\n",
       "\n",
       "    .dataframe tbody tr th {\n",
       "        vertical-align: top;\n",
       "    }\n",
       "\n",
       "    .dataframe thead th {\n",
       "        text-align: right;\n",
       "    }\n",
       "</style>\n",
       "<table border=\"1\" class=\"dataframe\">\n",
       "  <thead>\n",
       "    <tr style=\"text-align: right;\">\n",
       "      <th></th>\n",
       "      <th>White_Open_Time</th>\n",
       "      <th>Black_Open_Time</th>\n",
       "    </tr>\n",
       "  </thead>\n",
       "  <tbody>\n",
       "    <tr>\n",
       "      <th>count</th>\n",
       "      <td>42820.000000</td>\n",
       "      <td>42820.000000</td>\n",
       "    </tr>\n",
       "    <tr>\n",
       "      <th>mean</th>\n",
       "      <td>1.853906</td>\n",
       "      <td>2.245819</td>\n",
       "    </tr>\n",
       "    <tr>\n",
       "      <th>std</th>\n",
       "      <td>2.988137</td>\n",
       "      <td>3.936678</td>\n",
       "    </tr>\n",
       "    <tr>\n",
       "      <th>min</th>\n",
       "      <td>0.000000</td>\n",
       "      <td>0.000000</td>\n",
       "    </tr>\n",
       "    <tr>\n",
       "      <th>25%</th>\n",
       "      <td>0.500000</td>\n",
       "      <td>0.500000</td>\n",
       "    </tr>\n",
       "    <tr>\n",
       "      <th>50%</th>\n",
       "      <td>1.000000</td>\n",
       "      <td>1.250000</td>\n",
       "    </tr>\n",
       "    <tr>\n",
       "      <th>75%</th>\n",
       "      <td>2.000000</td>\n",
       "      <td>2.666667</td>\n",
       "    </tr>\n",
       "    <tr>\n",
       "      <th>max</th>\n",
       "      <td>140.750000</td>\n",
       "      <td>262.500000</td>\n",
       "    </tr>\n",
       "  </tbody>\n",
       "</table>\n",
       "</div>"
      ],
      "text/plain": [
       "       White_Open_Time  Black_Open_Time\n",
       "count     42820.000000     42820.000000\n",
       "mean          1.853906         2.245819\n",
       "std           2.988137         3.936678\n",
       "min           0.000000         0.000000\n",
       "25%           0.500000         0.500000\n",
       "50%           1.000000         1.250000\n",
       "75%           2.000000         2.666667\n",
       "max         140.750000       262.500000"
      ]
     },
     "execution_count": 25,
     "metadata": {},
     "output_type": "execute_result"
    }
   ],
   "source": [
    "def opening_func(row,column):\n",
    "    column = row[column]\n",
    "    length = len(column)\n",
    "    n_moves= row['Open_N_Moves']\n",
    "    return np.mean(column[:n_moves]) if length>= n_moves else np.mean(column[:length])\n",
    "games_df['White_Open_Time'] = games_df.apply(opening_func,column='White_Move_Time',axis=1)\n",
    "games_df['Black_Open_Time'] = games_df.apply(opening_func,column='Black_Move_Time',axis=1)\n",
    "games_df[['White_Open_Time','Black_Open_Time']].describe()"
   ]
  },
  {
   "cell_type": "markdown",
   "metadata": {},
   "source": [
    "Interestig that some players spent 0 seconds in the first 10 moves, that would mean that they were all premoves these games were probably bullet (faster than 3 minutes, usually 2 or 1 minute). <br>\n",
    "<br>\n",
    "Now for the last 10 moves"
   ]
  },
  {
   "cell_type": "code",
   "execution_count": 26,
   "metadata": {},
   "outputs": [
    {
     "data": {
      "text/html": [
       "<div>\n",
       "<style scoped>\n",
       "    .dataframe tbody tr th:only-of-type {\n",
       "        vertical-align: middle;\n",
       "    }\n",
       "\n",
       "    .dataframe tbody tr th {\n",
       "        vertical-align: top;\n",
       "    }\n",
       "\n",
       "    .dataframe thead th {\n",
       "        text-align: right;\n",
       "    }\n",
       "</style>\n",
       "<table border=\"1\" class=\"dataframe\">\n",
       "  <thead>\n",
       "    <tr style=\"text-align: right;\">\n",
       "      <th></th>\n",
       "      <th>White_last_10_moves</th>\n",
       "      <th>Black_last_10_moves</th>\n",
       "    </tr>\n",
       "  </thead>\n",
       "  <tbody>\n",
       "    <tr>\n",
       "      <th>count</th>\n",
       "      <td>42820.000000</td>\n",
       "      <td>42820.000000</td>\n",
       "    </tr>\n",
       "    <tr>\n",
       "      <th>mean</th>\n",
       "      <td>8.116974</td>\n",
       "      <td>8.174625</td>\n",
       "    </tr>\n",
       "    <tr>\n",
       "      <th>std</th>\n",
       "      <td>8.872804</td>\n",
       "      <td>8.912891</td>\n",
       "    </tr>\n",
       "    <tr>\n",
       "      <th>min</th>\n",
       "      <td>0.000000</td>\n",
       "      <td>0.000000</td>\n",
       "    </tr>\n",
       "    <tr>\n",
       "      <th>25%</th>\n",
       "      <td>2.600000</td>\n",
       "      <td>2.600000</td>\n",
       "    </tr>\n",
       "    <tr>\n",
       "      <th>50%</th>\n",
       "      <td>5.600000</td>\n",
       "      <td>5.600000</td>\n",
       "    </tr>\n",
       "    <tr>\n",
       "      <th>75%</th>\n",
       "      <td>10.300000</td>\n",
       "      <td>10.400000</td>\n",
       "    </tr>\n",
       "    <tr>\n",
       "      <th>max</th>\n",
       "      <td>229.900000</td>\n",
       "      <td>342.100000</td>\n",
       "    </tr>\n",
       "  </tbody>\n",
       "</table>\n",
       "</div>"
      ],
      "text/plain": [
       "       White_last_10_moves  Black_last_10_moves\n",
       "count         42820.000000         42820.000000\n",
       "mean              8.116974             8.174625\n",
       "std               8.872804             8.912891\n",
       "min               0.000000             0.000000\n",
       "25%               2.600000             2.600000\n",
       "50%               5.600000             5.600000\n",
       "75%              10.300000            10.400000\n",
       "max             229.900000           342.100000"
      ]
     },
     "execution_count": 26,
     "metadata": {},
     "output_type": "execute_result"
    }
   ],
   "source": [
    "games_df['White_last_10_moves']=[np.mean(move_time[-10:]) if len(move_time)>=10 else np.mean(move_time[-len(move_time):]) for move_time in w_move_time]\n",
    "games_df['Black_last_10_moves']=[np.mean(move_time[-10:]) if len(move_time)>=10 else np.mean(move_time[-len(move_time):]) for move_time in b_move_time]\n",
    "\n",
    "games_df[['White_last_10_moves','Black_last_10_moves']].describe()"
   ]
  },
  {
   "cell_type": "markdown",
   "metadata": {},
   "source": [
    "We also had games where the last 10 moves had an avarage of 0.\n",
    "<br>\n",
    "Creating the Time Scramble variable"
   ]
  },
  {
   "cell_type": "code",
   "execution_count": 27,
   "metadata": {},
   "outputs": [],
   "source": [
    "def time_scramble_func(lst):\n",
    "    last_10 = [clock[-10:] if len(clock)>=10 else clock[-len(clock):]for clock in lst]    \n",
    "    time_scramble =[]\n",
    "    for time in last_10:\n",
    "        if type(time) == type(last_10[0][0]):\n",
    "            time_scramble.append(None)\n",
    "        else:\n",
    "            #timetuple()[5] returns the seconds of the datetime object and [4] the minutes\n",
    "            scramble=any([t.timetuple()[5] <20 if t.timetuple()[4]==0 else False for t in time])\n",
    "            time_scramble.append(scramble)\n",
    "    return time_scramble\n",
    "\n",
    "games_df['White_Time_Scramble'] = time_scramble_func(w_clocks_dt)\n",
    "games_df['White_Time_Scramble'] =games_df['White_Time_Scramble'].replace({True:1,False:0})\n",
    "games_df['Black_Time_Scramble'] = time_scramble_func(b_clocks_dt)\n",
    "games_df['Black_Time_Scramble'] =games_df['Black_Time_Scramble'].replace({True:1,False:0})"
   ]
  },
  {
   "cell_type": "markdown",
   "metadata": {},
   "source": [
    "We also wanto to see how good were the moves made by the player. In the data set we have the position evaluation, that is the perceived value of the position given by the engine in pawns (a pawn is worth 1 point of value), a positive value means white is better, negative means black is better and 0 means an equal position. We will use this data to evaluate the moves by looking at the difference between the evaluations  between eacb move by  suming them. <br>\n",
    "<br>\n",
    "One point to add is that we will have mate evaluations (#X, where X is the number of moves to mate -\"#\" means mate). Engines usuaslly value the king in around 300 pawns and it subtracts 10 points for every move away from it, so a mate in 5(#5) for white gives a evaluation of 250. If we use this method a evaluation from #15 to  a +15 (meaning he qhite player did not see the mate in 15) will give us a negative swing of -135, which will heavily affect the overall evaluation of the player. And its unfair to punish, spceially amateur players, for not seeing a mate in 15 as depending on the position it can be difficult for GMs to see as well, and +15 is still a great position, its not liek they blundered the game away. <br>\n",
    "<br>\n",
    "To fix that we will not punish unseen mates down to 7. and from 7 to 5 we will deduct only 1 point,from 5 to 3: 5 points, and 3 to 1: 7 points. \n",
    "If the player follows the mate line we will be giving the  8+: 10 points, 7-5: 7 points, 5-:5 points\n",
    "If theres a blunder from #X(x<5) to -X.X or vice-versa we will deduct 10 points plus whatever the evalutioan, if the blunder is from #X to -#X we will deduct 20 points\n",
    "We will also not add points when the player finally mates or deduct when the player is mated.\n",
    "(This points are completely arbitraty and were tweaked by me to not be overly punishing - they still are quite punishing - and to reduce the variance  as the initial values I use had a variance more than 5 time bigger than the range between than first and last quartil - it still is bigger)"
   ]
  },
  {
   "cell_type": "code",
   "execution_count": 28,
   "metadata": {},
   "outputs": [],
   "source": [
    "import ast\n",
    "def calc_eval(row, color,opening=False):           \n",
    "    evaluation = ast.literal_eval(row['Evaluation'])\n",
    "    calc = 0\n",
    "    if opening:\n",
    "        moves = row['Open_N_Moves']\n",
    "        w_evaluation = evaluation[:moves*2:2]\n",
    "        b_evaluation = evaluation[1:moves*2:2]\n",
    "    else:    \n",
    "        w_evaluation = evaluation[::2]\n",
    "        b_evaluation = evaluation[1::2]\n",
    "    if color == 'white':\n",
    "        b_evaluation.append('0') if len(b_evaluation) < len(w_evaluation) else None\n",
    "        previous = '0' #black movement\n",
    "        for idx,evl in enumerate(w_evaluation): \n",
    "            if '#' in previous:\n",
    "                previous = float(previous.replace('#',''))\n",
    "                if '#' in evl:\n",
    "                    evl = float(evl.replace('#',''))\n",
    "                    if evl < 0:\n",
    "                        move_value = -20\n",
    "                    elif previous > 7:\n",
    "                        if previous-evl > 0:\n",
    "                            move_value = 10\n",
    "                        else:\n",
    "                            move_value = 0\n",
    "                    elif previous > 5:\n",
    "                        if previous-evl > 0:\n",
    "                            move_value = 7\n",
    "                        else:\n",
    "                            move_value = -1                        \n",
    "                    elif previous < 5 and previous > 3:\n",
    "                        if previous-evl > 0:\n",
    "                            move_value = 5\n",
    "                        else:\n",
    "                            move_value -5\n",
    "                    elif previous <  3 and previous >0:\n",
    "                        if previous-evl > 0:\n",
    "                            move_value = 5\n",
    "                        else:\n",
    "                            move_value= -7\n",
    "                    else:\n",
    "                        if previous - evl >=0 :\n",
    "                            move_value =  1 #rewarding defense\n",
    "                        else:\n",
    "                            move_value = 0\n",
    "                else:\n",
    "                    evl = float (evl)\n",
    "                    if evl <= 0:\n",
    "                        move_value = -10 + evl\n",
    "                    else:\n",
    "                        if previous > 7:\n",
    "                                move_value = 0\n",
    "                        elif previous > 5:\n",
    "                             move_value = -1                        \n",
    "                        elif previous < 5 and previous > 3:\n",
    "                             move_value= -5\n",
    "                        else:\n",
    "                            move_value= -7\n",
    "            else:\n",
    "                previous = float(previous)\n",
    "                if '#' in evl:\n",
    "                    evl=float(evl.replace('#',''))\n",
    "                    if evl <0:\n",
    "                        move_value = min(-20 - evl,0)\n",
    "                    else:\n",
    "                        move_value = max(40 - evl,20) #Thiw woud happen when te egine doesn't see the mate, it's vey rare to happen                        \n",
    "                else:    \n",
    "                    evl = float(evl)            \n",
    "                    move_value = evl - previous\n",
    "            calc+=move_value\n",
    "            previous = b_evaluation[idx]\n",
    "    else:\n",
    "        for evl,previous in zip(b_evaluation,w_evaluation): \n",
    "            if '#' in previous:\n",
    "                previous = float(previous.replace('#',''))\n",
    "                if '#' in evl:\n",
    "                    evl = float(evl.replace('#',''))\n",
    "                    if evl > 0:\n",
    "                        move_value = -20\n",
    "                    elif previous < -7:\n",
    "                        if previous-evl < 0:\n",
    "                            move_value = 10\n",
    "                        else:\n",
    "                            move_value = 0\n",
    "                    elif previous < -5:\n",
    "                        if previous-evl < 0:\n",
    "                            move_value = 7\n",
    "                        else:\n",
    "                            move_value = -1                        \n",
    "                    elif previous > -5 and previous < -3:\n",
    "                        if previous-evl < 0:\n",
    "                            move_value = 5\n",
    "                        else:\n",
    "                            move_value =-5\n",
    "                    elif previous >= -3 and previous <0:\n",
    "                        if previous-evl < 0:\n",
    "                            move_value = 3\n",
    "                        else:\n",
    "                            move_value =-7\n",
    "                    else:\n",
    "                        if previous - evl >=0:\n",
    "                            move_value = 1 #rewardinf defense\n",
    "                        else:\n",
    "                            move_value = 0\n",
    "                else:\n",
    "                    evl = float (evl)\n",
    "                    if evl >= 0:\n",
    "                        move_value = -10 - evl\n",
    "                    else:\n",
    "                        if previous < -7:\n",
    "                                move_value = 0\n",
    "                        elif previous < -5:\n",
    "                             move_value = -1                        \n",
    "                        elif previous > -5 and previous <- 3:\n",
    "                             move_value= -5\n",
    "                        else:\n",
    "                            move_value= -7\n",
    "            else:\n",
    "                previous = float(previous)\n",
    "                if '#' in evl:\n",
    "                    evl=float(evl.replace('#',''))\n",
    "                    if evl >0:\n",
    "                        move_value =min(- 20 + evl,0)\n",
    "                    else:\n",
    "                        move_value =max(40 + evl,20) #Thiw woud happen when te egine doesn't see the mate, it's vey rare to happen                        \n",
    "                else:    \n",
    "                    evl = float(evl)            \n",
    "                    move_value = previous -evl\n",
    "            calc+=move_value\n",
    "    return calc       \n",
    "   "
   ]
  },
  {
   "cell_type": "code",
   "execution_count": 29,
   "metadata": {},
   "outputs": [
    {
     "data": {
      "text/html": [
       "<div>\n",
       "<style scoped>\n",
       "    .dataframe tbody tr th:only-of-type {\n",
       "        vertical-align: middle;\n",
       "    }\n",
       "\n",
       "    .dataframe tbody tr th {\n",
       "        vertical-align: top;\n",
       "    }\n",
       "\n",
       "    .dataframe thead th {\n",
       "        text-align: right;\n",
       "    }\n",
       "</style>\n",
       "<table border=\"1\" class=\"dataframe\">\n",
       "  <thead>\n",
       "    <tr style=\"text-align: right;\">\n",
       "      <th></th>\n",
       "      <th>White_Eval</th>\n",
       "      <th>Black_Eval</th>\n",
       "    </tr>\n",
       "  </thead>\n",
       "  <tbody>\n",
       "    <tr>\n",
       "      <th>count</th>\n",
       "      <td>42820.000000</td>\n",
       "      <td>42820.000000</td>\n",
       "    </tr>\n",
       "    <tr>\n",
       "      <th>mean</th>\n",
       "      <td>-55.762489</td>\n",
       "      <td>-60.167832</td>\n",
       "    </tr>\n",
       "    <tr>\n",
       "      <th>std</th>\n",
       "      <td>85.248716</td>\n",
       "      <td>85.646169</td>\n",
       "    </tr>\n",
       "    <tr>\n",
       "      <th>min</th>\n",
       "      <td>-1656.850000</td>\n",
       "      <td>-1359.620000</td>\n",
       "    </tr>\n",
       "    <tr>\n",
       "      <th>25%</th>\n",
       "      <td>-64.412500</td>\n",
       "      <td>-71.350000</td>\n",
       "    </tr>\n",
       "    <tr>\n",
       "      <th>50%</th>\n",
       "      <td>-28.650000</td>\n",
       "      <td>-31.740000</td>\n",
       "    </tr>\n",
       "    <tr>\n",
       "      <th>75%</th>\n",
       "      <td>-12.600000</td>\n",
       "      <td>-14.610000</td>\n",
       "    </tr>\n",
       "    <tr>\n",
       "      <th>max</th>\n",
       "      <td>263.260000</td>\n",
       "      <td>229.030000</td>\n",
       "    </tr>\n",
       "  </tbody>\n",
       "</table>\n",
       "</div>"
      ],
      "text/plain": [
       "         White_Eval    Black_Eval\n",
       "count  42820.000000  42820.000000\n",
       "mean     -55.762489    -60.167832\n",
       "std       85.248716     85.646169\n",
       "min    -1656.850000  -1359.620000\n",
       "25%      -64.412500    -71.350000\n",
       "50%      -28.650000    -31.740000\n",
       "75%      -12.600000    -14.610000\n",
       "max      263.260000    229.030000"
      ]
     },
     "execution_count": 29,
     "metadata": {},
     "output_type": "execute_result"
    }
   ],
   "source": [
    "games_df['White_Eval'] = games_df.apply(calc_eval,color='white',axis=1)\n",
    "games_df['Black_Eval'] = games_df.apply(calc_eval,color='black',axis=1)\n",
    "games_df[['White_Eval','Black_Eval']].describe()"
   ]
  },
  {
   "cell_type": "markdown",
   "metadata": {},
   "source": [
    "I'll also take a look at the evaluation in the opening, I thought of calculating the evalution in the last moves, but the player that lost will likely have made bad plays towards the end, while the winning one would not, it woould be more interesting to look at teh evaluation in the endgame. But to taht I would have to build a way to determine when the endgame began, and determine when the endgame begins is not that simple of question as there's a lot of discussion of when exactly it does. Some ay ots qhen the queed is traded, others say thats when the king gets active, and other say that it begins when a certain material count is reached, but with no agreeable ammount agreed upon.It might be some for the future, but for now I'll be just looking at the opening"
   ]
  },
  {
   "cell_type": "code",
   "execution_count": 30,
   "metadata": {},
   "outputs": [
    {
     "data": {
      "text/html": [
       "<div>\n",
       "<style scoped>\n",
       "    .dataframe tbody tr th:only-of-type {\n",
       "        vertical-align: middle;\n",
       "    }\n",
       "\n",
       "    .dataframe tbody tr th {\n",
       "        vertical-align: top;\n",
       "    }\n",
       "\n",
       "    .dataframe thead th {\n",
       "        text-align: right;\n",
       "    }\n",
       "</style>\n",
       "<table border=\"1\" class=\"dataframe\">\n",
       "  <thead>\n",
       "    <tr style=\"text-align: right;\">\n",
       "      <th></th>\n",
       "      <th>White_Open_Eval</th>\n",
       "      <th>Black_Open_Eval</th>\n",
       "    </tr>\n",
       "  </thead>\n",
       "  <tbody>\n",
       "    <tr>\n",
       "      <th>count</th>\n",
       "      <td>42820.000000</td>\n",
       "      <td>42820.000000</td>\n",
       "    </tr>\n",
       "    <tr>\n",
       "      <th>mean</th>\n",
       "      <td>-0.309458</td>\n",
       "      <td>-0.761581</td>\n",
       "    </tr>\n",
       "    <tr>\n",
       "      <th>std</th>\n",
       "      <td>0.933971</td>\n",
       "      <td>1.199884</td>\n",
       "    </tr>\n",
       "    <tr>\n",
       "      <th>min</th>\n",
       "      <td>-57.620000</td>\n",
       "      <td>-40.270000</td>\n",
       "    </tr>\n",
       "    <tr>\n",
       "      <th>25%</th>\n",
       "      <td>-0.500000</td>\n",
       "      <td>-0.960000</td>\n",
       "    </tr>\n",
       "    <tr>\n",
       "      <th>50%</th>\n",
       "      <td>-0.110000</td>\n",
       "      <td>-0.480000</td>\n",
       "    </tr>\n",
       "    <tr>\n",
       "      <th>75%</th>\n",
       "      <td>0.160000</td>\n",
       "      <td>-0.190000</td>\n",
       "    </tr>\n",
       "    <tr>\n",
       "      <th>max</th>\n",
       "      <td>2.730000</td>\n",
       "      <td>0.880000</td>\n",
       "    </tr>\n",
       "  </tbody>\n",
       "</table>\n",
       "</div>"
      ],
      "text/plain": [
       "       White_Open_Eval  Black_Open_Eval\n",
       "count     42820.000000     42820.000000\n",
       "mean         -0.309458        -0.761581\n",
       "std           0.933971         1.199884\n",
       "min         -57.620000       -40.270000\n",
       "25%          -0.500000        -0.960000\n",
       "50%          -0.110000        -0.480000\n",
       "75%           0.160000        -0.190000\n",
       "max           2.730000         0.880000"
      ]
     },
     "execution_count": 30,
     "metadata": {},
     "output_type": "execute_result"
    }
   ],
   "source": [
    "games_df['White_Open_Eval'] = games_df.apply(calc_eval,color='white',opening=True,axis=1)\n",
    "games_df['Black_Open_Eval'] = games_df.apply(calc_eval,color='black',opening=True,axis=1)\n",
    "games_df[['White_Open_Eval','Black_Open_Eval']].describe()"
   ]
  },
  {
   "cell_type": "code",
   "execution_count": 31,
   "metadata": {},
   "outputs": [],
   "source": [
    "games_df['Average_Elo']=games_df.apply(lambda x: (x['White_Elo']+x['Black_Elo'])/2,axis=1)                                  "
   ]
  },
  {
   "cell_type": "code",
   "execution_count": 32,
   "metadata": {},
   "outputs": [],
   "source": [
    "control_dic={180: 'Bullet',300:'Blitz',900:'Rapid'}\n",
    "#Everything above 30 will be considered classical, even though the \"classical\" classical definition is usually 40 min + 40 min after the 40th move)\n",
    "def ret_timecontrol(time):\n",
    "    for key,value in control_dic.items():\n",
    "        if time <= key:\n",
    "            return value\n",
    "        if time >= 900:\n",
    "            return 'Classical'\n",
    "games_df['Time_Control']=games_df['Time_Control'].apply(ret_timecontrol)\n",
    "    "
   ]
  },
  {
   "cell_type": "code",
   "execution_count": 33,
   "metadata": {},
   "outputs": [
    {
     "data": {
      "text/plain": [
       "Bullet       17849\n",
       "Blitz        10388\n",
       "Rapid         8524\n",
       "Classical     6059\n",
       "Name: Time_Control, dtype: int64"
      ]
     },
     "execution_count": 33,
     "metadata": {},
     "output_type": "execute_result"
    }
   ],
   "source": [
    "games_df['Time_Control'].value_counts()"
   ]
  },
  {
   "cell_type": "code",
   "execution_count": 34,
   "metadata": {},
   "outputs": [],
   "source": [
    "games_df.iloc[:,2:].to_csv('games_df.zip', index=False, compression='zip')"
   ]
  },
  {
   "cell_type": "code",
   "execution_count": 35,
   "metadata": {},
   "outputs": [
    {
     "data": {
      "text/plain": [
       "1-0    22102\n",
       "0-1    20718\n",
       "Name: Result, dtype: int64"
      ]
     },
     "execution_count": 35,
     "metadata": {},
     "output_type": "execute_result"
    }
   ],
   "source": [
    "games_df['Result'].value_counts()"
   ]
  },
  {
   "cell_type": "code",
   "execution_count": null,
   "metadata": {},
   "outputs": [],
   "source": []
  }
 ],
 "metadata": {
  "kernelspec": {
   "display_name": "Python 3",
   "language": "python",
   "name": "python3"
  },
  "language_info": {
   "codemirror_mode": {
    "name": "ipython",
    "version": 3
   },
   "file_extension": ".py",
   "mimetype": "text/x-python",
   "name": "python",
   "nbconvert_exporter": "python",
   "pygments_lexer": "ipython3",
   "version": "3.8.8"
  }
 },
 "nbformat": 4,
 "nbformat_minor": 4
}
