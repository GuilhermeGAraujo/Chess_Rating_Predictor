{
 "cells": [
  {
   "cell_type": "code",
   "execution_count": 134,
   "metadata": {},
   "outputs": [],
   "source": [
    "import pandas as pd\n",
    "import numpy as np\n",
    "import matplotlib.pyplot as plt\n",
    "import seaborn as sns\n",
    "import re"
   ]
  },
  {
   "cell_type": "code",
   "execution_count": 135,
   "metadata": {},
   "outputs": [
    {
     "data": {
      "text/html": [
       "<div>\n",
       "<style scoped>\n",
       "    .dataframe tbody tr th:only-of-type {\n",
       "        vertical-align: middle;\n",
       "    }\n",
       "\n",
       "    .dataframe tbody tr th {\n",
       "        vertical-align: top;\n",
       "    }\n",
       "\n",
       "    .dataframe thead th {\n",
       "        text-align: right;\n",
       "    }\n",
       "</style>\n",
       "<table border=\"1\" class=\"dataframe\">\n",
       "  <thead>\n",
       "    <tr style=\"text-align: right;\">\n",
       "      <th></th>\n",
       "      <th>Unnamed: 0</th>\n",
       "      <th>Unnamed: 0.1</th>\n",
       "      <th>White_Elo</th>\n",
       "      <th>Black_Elo</th>\n",
       "      <th>Result</th>\n",
       "      <th>Opening</th>\n",
       "      <th>Variation</th>\n",
       "      <th>Time_Control</th>\n",
       "      <th>Increment</th>\n",
       "      <th>Evaluation</th>\n",
       "      <th>Players_Clock</th>\n",
       "      <th>Termination</th>\n",
       "      <th>Moves</th>\n",
       "    </tr>\n",
       "  </thead>\n",
       "  <tbody>\n",
       "    <tr>\n",
       "      <th>0</th>\n",
       "      <td>0</td>\n",
       "      <td>0</td>\n",
       "      <td>1791</td>\n",
       "      <td>1829</td>\n",
       "      <td>1-0</td>\n",
       "      <td>Queen's Gambit Refused</td>\n",
       "      <td>Marshall Defense</td>\n",
       "      <td>180.0</td>\n",
       "      <td>2.0</td>\n",
       "      <td>['0.25', '0.25', '0.26', '0.78', '-0.08', '0.4...</td>\n",
       "      <td>['0:03:00', '0:03:00', '0:03:01', '0:03:02', '...</td>\n",
       "      <td>Resignation</td>\n",
       "      <td>1.d4 d5 2.c4 Nf6 3.Nc3 c6 4.Bg5 e6 5.f3 Be7 6....</td>\n",
       "    </tr>\n",
       "    <tr>\n",
       "      <th>1</th>\n",
       "      <td>1</td>\n",
       "      <td>1</td>\n",
       "      <td>2120</td>\n",
       "      <td>2104</td>\n",
       "      <td>1-0</td>\n",
       "      <td>Sicilian Defense</td>\n",
       "      <td>Smith-Morra Gambit Accepted, Paulsen Formation</td>\n",
       "      <td>300.0</td>\n",
       "      <td>0.0</td>\n",
       "      <td>['0.24', '0.2', '0.21', '0.47', '0.22', '0.09'...</td>\n",
       "      <td>['0:05:00', '0:05:00', '0:04:59', '0:04:59', '...</td>\n",
       "      <td>Checkmate</td>\n",
       "      <td>1.e4 c5 2.Nf3 e6 3.d4 cxd4 4.c3 dxc3 5.Nxc3 Nc...</td>\n",
       "    </tr>\n",
       "    <tr>\n",
       "      <th>2</th>\n",
       "      <td>2</td>\n",
       "      <td>2</td>\n",
       "      <td>1457</td>\n",
       "      <td>1521</td>\n",
       "      <td>1-0</td>\n",
       "      <td>Sicilian Defense</td>\n",
       "      <td>Old Sicilian</td>\n",
       "      <td>600.0</td>\n",
       "      <td>0.0</td>\n",
       "      <td>['0.24', '0.2', '0.21', '0.08', '0.0', '0.0', ...</td>\n",
       "      <td>['0:10:00', '0:10:00', '0:09:59', '0:09:59', '...</td>\n",
       "      <td>Checkmate</td>\n",
       "      <td>1.e4 c5 2.Nf3 Nc6 3.Bc4 e6 4.d4 a6 5.dxc5 d5 6...</td>\n",
       "    </tr>\n",
       "    <tr>\n",
       "      <th>3</th>\n",
       "      <td>3</td>\n",
       "      <td>3</td>\n",
       "      <td>2296</td>\n",
       "      <td>2303</td>\n",
       "      <td>1-0</td>\n",
       "      <td>Queen's Pawn Game</td>\n",
       "      <td>London System</td>\n",
       "      <td>600.0</td>\n",
       "      <td>0.0</td>\n",
       "      <td>['0.25', '0.22', '0.0', '0.0', '0.0', '0.0', '...</td>\n",
       "      <td>['0:10:00', '0:10:00', '0:09:58', '0:09:57', '...</td>\n",
       "      <td>Resignation</td>\n",
       "      <td>1.d4 Nf6 2.Bf4 d5 3.Nf3 c5 4.e3 Nc6 5.Nbd2 e6 ...</td>\n",
       "    </tr>\n",
       "    <tr>\n",
       "      <th>4</th>\n",
       "      <td>4</td>\n",
       "      <td>4</td>\n",
       "      <td>1547</td>\n",
       "      <td>1560</td>\n",
       "      <td>0-1</td>\n",
       "      <td>Queen's Pawn Game</td>\n",
       "      <td>Mason Attack</td>\n",
       "      <td>600.0</td>\n",
       "      <td>0.0</td>\n",
       "      <td>['0.25', '0.25', '0.0', '0.37', '0.41', '0.54'...</td>\n",
       "      <td>['0:10:00', '0:10:00', '0:09:58', '0:09:56', '...</td>\n",
       "      <td>Resignation</td>\n",
       "      <td>1.d4 d5 2.Bf4 Nc6 3.e3 Nf6 4.Nf3 a6 5.c3 Bf5 6...</td>\n",
       "    </tr>\n",
       "  </tbody>\n",
       "</table>\n",
       "</div>"
      ],
      "text/plain": [
       "   Unnamed: 0  Unnamed: 0.1  White_Elo  Black_Elo Result  \\\n",
       "0           0             0       1791       1829    1-0   \n",
       "1           1             1       2120       2104    1-0   \n",
       "2           2             2       1457       1521    1-0   \n",
       "3           3             3       2296       2303    1-0   \n",
       "4           4             4       1547       1560    0-1   \n",
       "\n",
       "                  Opening                                        Variation  \\\n",
       "0  Queen's Gambit Refused                                 Marshall Defense   \n",
       "1        Sicilian Defense   Smith-Morra Gambit Accepted, Paulsen Formation   \n",
       "2        Sicilian Defense                                     Old Sicilian   \n",
       "3       Queen's Pawn Game                                    London System   \n",
       "4       Queen's Pawn Game                                     Mason Attack   \n",
       "\n",
       "   Time_Control  Increment                                         Evaluation  \\\n",
       "0         180.0        2.0  ['0.25', '0.25', '0.26', '0.78', '-0.08', '0.4...   \n",
       "1         300.0        0.0  ['0.24', '0.2', '0.21', '0.47', '0.22', '0.09'...   \n",
       "2         600.0        0.0  ['0.24', '0.2', '0.21', '0.08', '0.0', '0.0', ...   \n",
       "3         600.0        0.0  ['0.25', '0.22', '0.0', '0.0', '0.0', '0.0', '...   \n",
       "4         600.0        0.0  ['0.25', '0.25', '0.0', '0.37', '0.41', '0.54'...   \n",
       "\n",
       "                                       Players_Clock  Termination  \\\n",
       "0  ['0:03:00', '0:03:00', '0:03:01', '0:03:02', '...  Resignation   \n",
       "1  ['0:05:00', '0:05:00', '0:04:59', '0:04:59', '...    Checkmate   \n",
       "2  ['0:10:00', '0:10:00', '0:09:59', '0:09:59', '...    Checkmate   \n",
       "3  ['0:10:00', '0:10:00', '0:09:58', '0:09:57', '...  Resignation   \n",
       "4  ['0:10:00', '0:10:00', '0:09:58', '0:09:56', '...  Resignation   \n",
       "\n",
       "                                               Moves  \n",
       "0  1.d4 d5 2.c4 Nf6 3.Nc3 c6 4.Bg5 e6 5.f3 Be7 6....  \n",
       "1  1.e4 c5 2.Nf3 e6 3.d4 cxd4 4.c3 dxc3 5.Nxc3 Nc...  \n",
       "2  1.e4 c5 2.Nf3 Nc6 3.Bc4 e6 4.d4 a6 5.dxc5 d5 6...  \n",
       "3  1.d4 Nf6 2.Bf4 d5 3.Nf3 c5 4.e3 Nc6 5.Nbd2 e6 ...  \n",
       "4  1.d4 d5 2.Bf4 Nc6 3.e3 Nf6 4.Nf3 a6 5.c3 Bf5 6...  "
      ]
     },
     "execution_count": 135,
     "metadata": {},
     "output_type": "execute_result"
    }
   ],
   "source": [
    "games_df = pd.read_csv('games.zip',sep=';',compression = 'zip')\n",
    "games_df.head()"
   ]
  },
  {
   "cell_type": "code",
   "execution_count": 136,
   "metadata": {},
   "outputs": [
    {
     "name": "stdout",
     "output_type": "stream",
     "text": [
      "<class 'pandas.core.frame.DataFrame'>\n",
      "RangeIndex: 44199 entries, 0 to 44198\n",
      "Data columns (total 11 columns):\n",
      " #   Column         Non-Null Count  Dtype  \n",
      "---  ------         --------------  -----  \n",
      " 0   White_Elo      44199 non-null  int64  \n",
      " 1   Black_Elo      44199 non-null  int64  \n",
      " 2   Result         44199 non-null  object \n",
      " 3   Opening        44199 non-null  object \n",
      " 4   Variation      29336 non-null  object \n",
      " 5   Time_Control   44059 non-null  float64\n",
      " 6   Increment      44059 non-null  float64\n",
      " 7   Evaluation     44199 non-null  object \n",
      " 8   Players_Clock  44199 non-null  object \n",
      " 9   Termination    44199 non-null  object \n",
      " 10  Moves          44199 non-null  object \n",
      "dtypes: float64(2), int64(2), object(7)\n",
      "memory usage: 3.7+ MB\n"
     ]
    }
   ],
   "source": [
    "#Removing the two first columns originated from poor saving to csv\n",
    "games_df.drop(games_df.columns[[0,1]],axis = 1,inplace=True)\n",
    "games_df.info()\n"
   ]
  },
  {
   "cell_type": "markdown",
   "metadata": {},
   "source": [
    "About 15k of Variation is missing and we have some time control with increment also missing"
   ]
  },
  {
   "cell_type": "code",
   "execution_count": 137,
   "metadata": {},
   "outputs": [
    {
     "data": {
      "text/plain": [
       "<AxesSubplot:>"
      ]
     },
     "execution_count": 137,
     "metadata": {},
     "output_type": "execute_result"
    },
    {
     "data": {
      "image/png": "[encoded data removed]",
      "text/plain": [
       "<Figure size 1800x720 with 2 Axes>"
      ]
     },
     "metadata": {
      "needs_background": "light"
     },
     "output_type": "display_data"
    }
   ],
   "source": [
    "import missingno as msno\n",
    "msno.matrix(games_df)"
   ]
  },
  {
   "cell_type": "code",
   "execution_count": 138,
   "metadata": {},
   "outputs": [
    {
     "data": {
      "text/plain": [
       "<AxesSubplot:>"
      ]
     },
     "execution_count": 138,
     "metadata": {},
     "output_type": "execute_result"
    },
    {
     "data": {
      "image/png": "[encoded data removed]",
      "text/plain": [
       "<Figure size 576x288 with 2 Axes>"
      ]
     },
     "metadata": {
      "needs_background": "light"
     },
     "output_type": "display_data"
    }
   ],
   "source": [
    "\n",
    "msno.heatmap(games_df,figsize=(8,4))"
   ]
  },
  {
   "cell_type": "markdown",
   "metadata": {},
   "source": [
    "Time_control and Variation have a perfect correlation, I'll be removing all of them as is just a small part of the data. The varaiation missing is becuase they played the classical/mainlaine variation or a unknow variation,for these we are going to simply put a empty space string"
   ]
  },
  {
   "cell_type": "code",
   "execution_count": 143,
   "metadata": {},
   "outputs": [
    {
     "name": "stdout",
     "output_type": "stream",
     "text": [
      "<class 'pandas.core.frame.DataFrame'>\n",
      "RangeIndex: 44059 entries, 0 to 44058\n",
      "Data columns (total 11 columns):\n",
      " #   Column         Non-Null Count  Dtype  \n",
      "---  ------         --------------  -----  \n",
      " 0   White_Elo      44059 non-null  int64  \n",
      " 1   Black_Elo      44059 non-null  int64  \n",
      " 2   Result         44059 non-null  object \n",
      " 3   Opening        44059 non-null  object \n",
      " 4   Variation      44059 non-null  object \n",
      " 5   Time_Control   44059 non-null  float64\n",
      " 6   Increment      44059 non-null  float64\n",
      " 7   Evaluation     44059 non-null  object \n",
      " 8   Players_Clock  44059 non-null  object \n",
      " 9   Termination    44059 non-null  object \n",
      " 10  Moves          44059 non-null  object \n",
      "dtypes: float64(2), int64(2), object(7)\n",
      "memory usage: 3.7+ MB\n"
     ]
    }
   ],
   "source": [
    "games_df['Variation'].fillna('',inplace = True)\n",
    "games_df.dropna(inplace=True)\n",
    "games_df.reset_index(drop=True,inplace=True)\n",
    "games_df.info()"
   ]
  },
  {
   "cell_type": "code",
   "execution_count": 144,
   "metadata": {},
   "outputs": [
    {
     "data": {
      "text/html": [
       "<div>\n",
       "<style scoped>\n",
       "    .dataframe tbody tr th:only-of-type {\n",
       "        vertical-align: middle;\n",
       "    }\n",
       "\n",
       "    .dataframe tbody tr th {\n",
       "        vertical-align: top;\n",
       "    }\n",
       "\n",
       "    .dataframe thead th {\n",
       "        text-align: right;\n",
       "    }\n",
       "</style>\n",
       "<table border=\"1\" class=\"dataframe\">\n",
       "  <thead>\n",
       "    <tr style=\"text-align: right;\">\n",
       "      <th></th>\n",
       "      <th>White_Elo</th>\n",
       "      <th>Black_Elo</th>\n",
       "      <th>Time_Control</th>\n",
       "      <th>Increment</th>\n",
       "    </tr>\n",
       "  </thead>\n",
       "  <tbody>\n",
       "    <tr>\n",
       "      <th>count</th>\n",
       "      <td>44059.000000</td>\n",
       "      <td>44059.000000</td>\n",
       "      <td>44059.000000</td>\n",
       "      <td>44059.000000</td>\n",
       "    </tr>\n",
       "    <tr>\n",
       "      <th>mean</th>\n",
       "      <td>1591.501850</td>\n",
       "      <td>1591.950861</td>\n",
       "      <td>382.883179</td>\n",
       "      <td>2.585306</td>\n",
       "    </tr>\n",
       "    <tr>\n",
       "      <th>std</th>\n",
       "      <td>337.093955</td>\n",
       "      <td>336.413808</td>\n",
       "      <td>346.497234</td>\n",
       "      <td>5.205767</td>\n",
       "    </tr>\n",
       "    <tr>\n",
       "      <th>min</th>\n",
       "      <td>600.000000</td>\n",
       "      <td>600.000000</td>\n",
       "      <td>0.000000</td>\n",
       "      <td>0.000000</td>\n",
       "    </tr>\n",
       "    <tr>\n",
       "      <th>25%</th>\n",
       "      <td>1344.000000</td>\n",
       "      <td>1343.000000</td>\n",
       "      <td>180.000000</td>\n",
       "      <td>0.000000</td>\n",
       "    </tr>\n",
       "    <tr>\n",
       "      <th>50%</th>\n",
       "      <td>1581.000000</td>\n",
       "      <td>1583.000000</td>\n",
       "      <td>300.000000</td>\n",
       "      <td>0.000000</td>\n",
       "    </tr>\n",
       "    <tr>\n",
       "      <th>75%</th>\n",
       "      <td>1825.000000</td>\n",
       "      <td>1826.000000</td>\n",
       "      <td>600.000000</td>\n",
       "      <td>2.000000</td>\n",
       "    </tr>\n",
       "    <tr>\n",
       "      <th>max</th>\n",
       "      <td>2882.000000</td>\n",
       "      <td>2882.000000</td>\n",
       "      <td>10800.000000</td>\n",
       "      <td>180.000000</td>\n",
       "    </tr>\n",
       "  </tbody>\n",
       "</table>\n",
       "</div>"
      ],
      "text/plain": [
       "          White_Elo     Black_Elo  Time_Control     Increment\n",
       "count  44059.000000  44059.000000  44059.000000  44059.000000\n",
       "mean    1591.501850   1591.950861    382.883179      2.585306\n",
       "std      337.093955    336.413808    346.497234      5.205767\n",
       "min      600.000000    600.000000      0.000000      0.000000\n",
       "25%     1344.000000   1343.000000    180.000000      0.000000\n",
       "50%     1581.000000   1583.000000    300.000000      0.000000\n",
       "75%     1825.000000   1826.000000    600.000000      2.000000\n",
       "max     2882.000000   2882.000000  10800.000000    180.000000"
      ]
     },
     "execution_count": 144,
     "metadata": {},
     "output_type": "execute_result"
    }
   ],
   "source": [
    "games_df.describe()"
   ]
  },
  {
   "cell_type": "markdown",
   "metadata": {},
   "source": [
    "Time control has a min value of 0, which doesn't make sense for a match to have 0 minutes, all other variables seems fine"
   ]
  },
  {
   "cell_type": "code",
   "execution_count": 145,
   "metadata": {},
   "outputs": [
    {
     "data": {
      "text/html": [
       "<div>\n",
       "<style scoped>\n",
       "    .dataframe tbody tr th:only-of-type {\n",
       "        vertical-align: middle;\n",
       "    }\n",
       "\n",
       "    .dataframe tbody tr th {\n",
       "        vertical-align: top;\n",
       "    }\n",
       "\n",
       "    .dataframe thead th {\n",
       "        text-align: right;\n",
       "    }\n",
       "</style>\n",
       "<table border=\"1\" class=\"dataframe\">\n",
       "  <thead>\n",
       "    <tr style=\"text-align: right;\">\n",
       "      <th></th>\n",
       "      <th>White_Elo</th>\n",
       "      <th>Black_Elo</th>\n",
       "      <th>Result</th>\n",
       "      <th>Opening</th>\n",
       "      <th>Variation</th>\n",
       "      <th>Time_Control</th>\n",
       "      <th>Increment</th>\n",
       "      <th>Evaluation</th>\n",
       "      <th>Players_Clock</th>\n",
       "      <th>Termination</th>\n",
       "      <th>Moves</th>\n",
       "    </tr>\n",
       "  </thead>\n",
       "  <tbody>\n",
       "    <tr>\n",
       "      <th>1457</th>\n",
       "      <td>2425</td>\n",
       "      <td>2312</td>\n",
       "      <td>1-0</td>\n",
       "      <td>Queen's Pawn Game</td>\n",
       "      <td>Zukertort Variation</td>\n",
       "      <td>0.0</td>\n",
       "      <td>1.0</td>\n",
       "      <td>['0.06', '0.25', '0.0', '0.35', '0.09', '0.23'...</td>\n",
       "      <td>['0:00:03', '0:00:03', '0:00:03', '0:00:03', '...</td>\n",
       "      <td>Time forfeit</td>\n",
       "      <td>1.Nf3 d5 2.d4 c6 3.Bg5 h6 4.Bh4 g5 5.Bg3 Bg7 6...</td>\n",
       "    </tr>\n",
       "    <tr>\n",
       "      <th>1705</th>\n",
       "      <td>1390</td>\n",
       "      <td>1363</td>\n",
       "      <td>0-1</td>\n",
       "      <td>Ponziani Opening</td>\n",
       "      <td>Jaenisch Counterattack</td>\n",
       "      <td>0.0</td>\n",
       "      <td>10.0</td>\n",
       "      <td>['0.24', '0.37', '0.26', '0.15', '-0.09', '0.0...</td>\n",
       "      <td>['0:00:10', '0:00:10', '0:00:19', '0:00:20', '...</td>\n",
       "      <td>Checkmate</td>\n",
       "      <td>1.e4 e5 2.Nf3 Nc6 3.c3 Nf6 4.Bd3 Bc5 5.O-O d6 ...</td>\n",
       "    </tr>\n",
       "    <tr>\n",
       "      <th>2715</th>\n",
       "      <td>1803</td>\n",
       "      <td>1388</td>\n",
       "      <td>1-0</td>\n",
       "      <td>Scandinavian Defense</td>\n",
       "      <td>Mieses-Kotroc Variation</td>\n",
       "      <td>0.0</td>\n",
       "      <td>3.0</td>\n",
       "      <td>['0.24', '0.53', '0.45', '0.71', '0.44', '0.72...</td>\n",
       "      <td>['0:00:03', '0:00:03', '0:00:05', '0:00:05', '...</td>\n",
       "      <td>Checkmate</td>\n",
       "      <td>1.e4 d5 2.exd5 Qxd5 3.Nf3 Qe6+ 4.Be2 Qe5 5.d4 ...</td>\n",
       "    </tr>\n",
       "    <tr>\n",
       "      <th>2836</th>\n",
       "      <td>1835</td>\n",
       "      <td>1333</td>\n",
       "      <td>1-0</td>\n",
       "      <td>Caro-Kann Defense</td>\n",
       "      <td>Accelerated Panov Attack, Modern Variation</td>\n",
       "      <td>0.0</td>\n",
       "      <td>2.0</td>\n",
       "      <td>['0.24', '0.23', '0.15', '-0.07', '0.0', '0.28...</td>\n",
       "      <td>['0:00:03', '0:00:03', '0:00:04', '0:00:04', '...</td>\n",
       "      <td>Checkmate</td>\n",
       "      <td>1.e4 c6 2.c4 d5 3.cxd5 cxd5 4.exd5 Nf6 5.Nc3 N...</td>\n",
       "    </tr>\n",
       "    <tr>\n",
       "      <th>2920</th>\n",
       "      <td>1805</td>\n",
       "      <td>1386</td>\n",
       "      <td>1-0</td>\n",
       "      <td>French Defense</td>\n",
       "      <td></td>\n",
       "      <td>0.0</td>\n",
       "      <td>3.0</td>\n",
       "      <td>['0.24', '0.3', '-0.24', '0.23', '-1.02', '-0....</td>\n",
       "      <td>['0:00:03', '0:00:03', '0:00:05', '0:00:06', '...</td>\n",
       "      <td>Resignation</td>\n",
       "      <td>1.e4 e6 2.Bc4 Be7 3.f4 c6 4.Nf3 a6 5.O-O b5 6....</td>\n",
       "    </tr>\n",
       "  </tbody>\n",
       "</table>\n",
       "</div>"
      ],
      "text/plain": [
       "      White_Elo  Black_Elo Result               Opening  \\\n",
       "1457       2425       2312    1-0     Queen's Pawn Game   \n",
       "1705       1390       1363    0-1      Ponziani Opening   \n",
       "2715       1803       1388    1-0  Scandinavian Defense   \n",
       "2836       1835       1333    1-0     Caro-Kann Defense   \n",
       "2920       1805       1386    1-0        French Defense   \n",
       "\n",
       "                                        Variation  Time_Control  Increment  \\\n",
       "1457                          Zukertort Variation           0.0        1.0   \n",
       "1705                       Jaenisch Counterattack           0.0       10.0   \n",
       "2715                      Mieses-Kotroc Variation           0.0        3.0   \n",
       "2836   Accelerated Panov Attack, Modern Variation           0.0        2.0   \n",
       "2920                                                        0.0        3.0   \n",
       "\n",
       "                                             Evaluation  \\\n",
       "1457  ['0.06', '0.25', '0.0', '0.35', '0.09', '0.23'...   \n",
       "1705  ['0.24', '0.37', '0.26', '0.15', '-0.09', '0.0...   \n",
       "2715  ['0.24', '0.53', '0.45', '0.71', '0.44', '0.72...   \n",
       "2836  ['0.24', '0.23', '0.15', '-0.07', '0.0', '0.28...   \n",
       "2920  ['0.24', '0.3', '-0.24', '0.23', '-1.02', '-0....   \n",
       "\n",
       "                                          Players_Clock   Termination  \\\n",
       "1457  ['0:00:03', '0:00:03', '0:00:03', '0:00:03', '...  Time forfeit   \n",
       "1705  ['0:00:10', '0:00:10', '0:00:19', '0:00:20', '...     Checkmate   \n",
       "2715  ['0:00:03', '0:00:03', '0:00:05', '0:00:05', '...     Checkmate   \n",
       "2836  ['0:00:03', '0:00:03', '0:00:04', '0:00:04', '...     Checkmate   \n",
       "2920  ['0:00:03', '0:00:03', '0:00:05', '0:00:06', '...   Resignation   \n",
       "\n",
       "                                                  Moves  \n",
       "1457  1.Nf3 d5 2.d4 c6 3.Bg5 h6 4.Bh4 g5 5.Bg3 Bg7 6...  \n",
       "1705  1.e4 e5 2.Nf3 Nc6 3.c3 Nf6 4.Bd3 Bc5 5.O-O d6 ...  \n",
       "2715  1.e4 d5 2.exd5 Qxd5 3.Nf3 Qe6+ 4.Be2 Qe5 5.d4 ...  \n",
       "2836  1.e4 c6 2.c4 d5 3.cxd5 cxd5 4.exd5 Nf6 5.Nc3 N...  \n",
       "2920  1.e4 e6 2.Bc4 Be7 3.f4 c6 4.Nf3 a6 5.O-O b5 6....  "
      ]
     },
     "execution_count": 145,
     "metadata": {},
     "output_type": "execute_result"
    }
   ],
   "source": [
    "games_df[games_df['Time_Control']==0].head()"
   ]
  },
  {
   "cell_type": "markdown",
   "metadata": {},
   "source": [
    "Let's take a look at players clock in some of theses games"
   ]
  },
  {
   "cell_type": "code",
   "execution_count": 146,
   "metadata": {},
   "outputs": [
    {
     "data": {
      "text/plain": [
       "1457    ['0:00:03', '0:00:03', '0:00:03', '0:00:03', '...\n",
       "1705    ['0:00:10', '0:00:10', '0:00:19', '0:00:20', '...\n",
       "2715    ['0:00:03', '0:00:03', '0:00:05', '0:00:05', '...\n",
       "2836    ['0:00:03', '0:00:03', '0:00:04', '0:00:04', '...\n",
       "2920    ['0:00:03', '0:00:03', '0:00:05', '0:00:06', '...\n",
       "Name: Players_Clock, dtype: object"
      ]
     },
     "execution_count": 146,
     "metadata": {},
     "output_type": "execute_result"
    }
   ],
   "source": [
    "games_df.Players_Clock[games_df['Time_Control']==0].head()"
   ]
  },
  {
   "cell_type": "markdown",
   "metadata": {},
   "source": [
    "These matches appear to start with seconds for each player, I  created a custom mathc at lichess with starting time of 0 and 8 second of incremen and looked at the pgn of the match, the time control was O, so that's explain why Later it might be interesting to compare the data of this games with the data"
   ]
  },
  {
   "cell_type": "code",
   "execution_count": 147,
   "metadata": {},
   "outputs": [
    {
     "data": {
      "text/plain": [
       "Sicilian Defense                                            5747\n",
       "Queen's Pawn Game                                           3113\n",
       "French Defense                                              2777\n",
       "Scandinavian Defense                                        1969\n",
       "Italian Game                                                1806\n",
       "                                                            ... \n",
       "Valencia Opening                                               1\n",
       "King's Gambit Accepted, Gianutio Countergambit                 1\n",
       "King's Gambit, Falkbeer Countergambit, Pickler Gambit          1\n",
       "King's Gambit Accepted, Bishop's Gambit, Gianutio Gambit       1\n",
       "Evans Gambit, McDonnell Defense, Main Line                     1\n",
       "Name: Opening, Length: 236, dtype: int64"
      ]
     },
     "execution_count": 147,
     "metadata": {},
     "output_type": "execute_result"
    }
   ],
   "source": [
    "games_df['Opening'].value_counts()"
   ]
  },
  {
   "cell_type": "markdown",
   "metadata": {},
   "source": [
    "Sicilian Defense is the most played opening in the dataset, followed by the Queen' Pawn Game. We can also see that some opening still have their variaton(i.e: Evans Gambit, McDonnell Defense, Main Line), meaning that we were unnable to catch those in previous cleaning"
   ]
  },
  {
   "cell_type": "code",
   "execution_count": 148,
   "metadata": {},
   "outputs": [
    {
     "data": {
      "text/plain": [
       "Sicilian Defense                                            5747\n",
       "Queen's Pawn Game                                           3113\n",
       "French Defense                                              2777\n",
       "Scandinavian Defense                                        1969\n",
       "Italian Game                                                1806\n",
       "                                                            ... \n",
       "Valencia Opening                                               1\n",
       "King's Gambit Accepted, Gianutio Countergambit                 1\n",
       "King's Gambit, Falkbeer Countergambit, Pickler Gambit          1\n",
       "King's Gambit Accepted, Bishop's Gambit, Gianutio Gambit       1\n",
       "Evans Gambit, McDonnell Defense, Main Line                     1\n",
       "Name: Opening, Length: 236, dtype: int64"
      ]
     },
     "execution_count": 148,
     "metadata": {},
     "output_type": "execute_result"
    }
   ],
   "source": [
    "openings = games_df['Opening'].to_numpy()\n",
    "for i,opn in enumerate(openings):\n",
    "    match= re.search(r'.+,(.+)',opn)\n",
    "    if match:\n",
    "        opening=match.group(0)\n",
    "        variation = match.group(1)\n",
    "        games_df.at[i,'Opening'] = opening\n",
    "        games_df.at[i,'Variation'] = variation\n",
    "games_df['Opening'].value_counts()  "
   ]
  },
  {
   "cell_type": "markdown",
   "metadata": {},
   "source": [
    "Let's see if that makes a difference in the variation that were missing. Remember that we had 15173 missing variations"
   ]
  },
  {
   "cell_type": "code",
   "execution_count": 149,
   "metadata": {},
   "outputs": [
    {
     "data": {
      "text/plain": [
       "13969"
      ]
     },
     "execution_count": 149,
     "metadata": {},
     "output_type": "execute_result"
    }
   ],
   "source": [
    "len(games_df.Variation[games_df['Variation']==''])"
   ]
  },
  {
   "cell_type": "code",
   "execution_count": 150,
   "metadata": {},
   "outputs": [
    {
     "data": {
      "text/plain": [
       "1-0    22102\n",
       "0-1    20718\n",
       "2-1     1204\n",
       "0-0        6\n",
       "1-1        5\n",
       "2-2        3\n",
       "9-2        3\n",
       "0-2        2\n",
       "1-2        2\n",
       "6-9        2\n",
       "7-1        2\n",
       "6-0        1\n",
       "5-2        1\n",
       "9-9        1\n",
       "3-2        1\n",
       "0-4        1\n",
       "1-4        1\n",
       "5-9        1\n",
       "7-0        1\n",
       "8-9        1\n",
       "8-4        1\n",
       "Name: Result, dtype: int64"
      ]
     },
     "execution_count": 150,
     "metadata": {},
     "output_type": "execute_result"
    }
   ],
   "source": [
    "games_df['Result'].value_counts()"
   ]
  },
  {
   "cell_type": "markdown",
   "metadata": {},
   "source": [
    "Three unexpected things in the result data, first the lack of scores with 0.5 or 1/2(the ammount awarded for a draw),the scores that imply more than one game, and the 0-0 scores. The secong is probably because the pgn gets the result of the match rather than that of the single game(a match being multiple games played in a row by the same players), the 0-0 score I have no idea."
   ]
  },
  {
   "cell_type": "markdown",
   "metadata": {},
   "source": [
    "The first one, the lack of draw scores worries me, I expected to have fewer number of draws, those familiar with chess know that draws are more common among higher rated players which are smaller number of the population(we will se if thats true for these games) and rare in lower ratings. But to have zero is anomaly. "
   ]
  },
  {
   "cell_type": "markdown",
   "metadata": {},
   "source": [
    "I believe three things might explain these, the first one is my method for choosing games in the database, I chose games that were one of the players requested a computer analysis after the match to study it, and you usually analise games that you've lost, so these would make draws ene less common, another one is that draws migh be hidden in the multiple games match, if in the match players tied twice you would have a whole number, but it's unlikely that all draws are only in matches and not in single games,a third factor could be the way lichess store it games, if the billions of games in the database are store in a way where decisive result(wins) come before draws, due to teh fact that i only parsed through a small fraction of games, I would not have gathered draws. "
   ]
  },
  {
   "cell_type": "markdown",
   "metadata": {},
   "source": [
    "Thats unfotunate as I belived draws would be a important predictor, due to the discrepancy between its occurance among lower and higher rated players"
   ]
  },
  {
   "cell_type": "code",
   "execution_count": 151,
   "metadata": {},
   "outputs": [
    {
     "data": {
      "text/html": [
       "<div>\n",
       "<style scoped>\n",
       "    .dataframe tbody tr th:only-of-type {\n",
       "        vertical-align: middle;\n",
       "    }\n",
       "\n",
       "    .dataframe tbody tr th {\n",
       "        vertical-align: top;\n",
       "    }\n",
       "\n",
       "    .dataframe thead th {\n",
       "        text-align: right;\n",
       "    }\n",
       "</style>\n",
       "<table border=\"1\" class=\"dataframe\">\n",
       "  <thead>\n",
       "    <tr style=\"text-align: right;\">\n",
       "      <th></th>\n",
       "      <th>White_Elo</th>\n",
       "      <th>Black_Elo</th>\n",
       "      <th>Time_Control</th>\n",
       "      <th>Increment</th>\n",
       "    </tr>\n",
       "  </thead>\n",
       "  <tbody>\n",
       "    <tr>\n",
       "      <th>count</th>\n",
       "      <td>1239.000000</td>\n",
       "      <td>1239.000000</td>\n",
       "      <td>1239.000000</td>\n",
       "      <td>1239.000000</td>\n",
       "    </tr>\n",
       "    <tr>\n",
       "      <th>mean</th>\n",
       "      <td>1725.698951</td>\n",
       "      <td>1726.054883</td>\n",
       "      <td>438.861985</td>\n",
       "      <td>3.225182</td>\n",
       "    </tr>\n",
       "    <tr>\n",
       "      <th>std</th>\n",
       "      <td>353.332623</td>\n",
       "      <td>349.762562</td>\n",
       "      <td>476.970994</td>\n",
       "      <td>7.291650</td>\n",
       "    </tr>\n",
       "    <tr>\n",
       "      <th>min</th>\n",
       "      <td>728.000000</td>\n",
       "      <td>781.000000</td>\n",
       "      <td>0.000000</td>\n",
       "      <td>0.000000</td>\n",
       "    </tr>\n",
       "    <tr>\n",
       "      <th>25%</th>\n",
       "      <td>1478.500000</td>\n",
       "      <td>1469.000000</td>\n",
       "      <td>180.000000</td>\n",
       "      <td>0.000000</td>\n",
       "    </tr>\n",
       "    <tr>\n",
       "      <th>50%</th>\n",
       "      <td>1731.000000</td>\n",
       "      <td>1729.000000</td>\n",
       "      <td>300.000000</td>\n",
       "      <td>0.000000</td>\n",
       "    </tr>\n",
       "    <tr>\n",
       "      <th>75%</th>\n",
       "      <td>1954.000000</td>\n",
       "      <td>1954.500000</td>\n",
       "      <td>600.000000</td>\n",
       "      <td>3.000000</td>\n",
       "    </tr>\n",
       "    <tr>\n",
       "      <th>max</th>\n",
       "      <td>2817.000000</td>\n",
       "      <td>2882.000000</td>\n",
       "      <td>10800.000000</td>\n",
       "      <td>180.000000</td>\n",
       "    </tr>\n",
       "  </tbody>\n",
       "</table>\n",
       "</div>"
      ],
      "text/plain": [
       "         White_Elo    Black_Elo  Time_Control    Increment\n",
       "count  1239.000000  1239.000000   1239.000000  1239.000000\n",
       "mean   1725.698951  1726.054883    438.861985     3.225182\n",
       "std     353.332623   349.762562    476.970994     7.291650\n",
       "min     728.000000   781.000000      0.000000     0.000000\n",
       "25%    1478.500000  1469.000000    180.000000     0.000000\n",
       "50%    1731.000000  1729.000000    300.000000     0.000000\n",
       "75%    1954.000000  1954.500000    600.000000     3.000000\n",
       "max    2817.000000  2882.000000  10800.000000   180.000000"
      ]
     },
     "execution_count": 151,
     "metadata": {},
     "output_type": "execute_result"
    }
   ],
   "source": [
    "#I was going to simply remove the matches from the dataset, but i want to see if they differantiate from the dataset\n",
    "matches_df = games_df[(games_df['Result'] != '1-0') & (games_df['Result']!='0-1')]\n",
    "matches_df.describe()"
   ]
  },
  {
   "cell_type": "markdown",
   "metadata": {},
   "source": [
    "The average elo rating are different from each other in about 200 points, but both are inside the standard variation of each popoluation, which is a strong indication that difference is not statisticallt relevant"
   ]
  },
  {
   "cell_type": "code",
   "execution_count": 157,
   "metadata": {},
   "outputs": [
    {
     "data": {
      "text/plain": [
       "Ttest_indResult(statistic=-14.246722762812276, pvalue=5.944811816893922e-46)"
      ]
     },
     "execution_count": 157,
     "metadata": {},
     "output_type": "execute_result"
    }
   ],
   "source": [
    "from scipy.stats import ttest_ind\n",
    "idx=matches_df.index\n",
    "df_Wavg=games_df['White_Elo'].drop(index=idx).to_numpy()\n",
    "matches_Wavg=matches_df['White_Elo'].to_numpy()\n",
    "ttest_ind(df_Wavg,matches_Wavg)"
   ]
  },
  {
   "cell_type": "markdown",
   "metadata": {},
   "source": [
    "Our ttest show us that averages are in fact different from each other, so for that reason I'll not remove them from the dataset, but will try to verify the result of the particular game."
   ]
  },
  {
   "cell_type": "code",
   "execution_count": null,
   "metadata": {},
   "outputs": [],
   "source": []
  }
 ],
 "metadata": {
  "kernelspec": {
   "display_name": "Python 3",
   "language": "python",
   "name": "python3"
  },
  "language_info": {
   "codemirror_mode": {
    "name": "ipython",
    "version": 3
   },
   "file_extension": ".py",
   "mimetype": "text/x-python",
   "name": "python",
   "nbconvert_exporter": "python",
   "pygments_lexer": "ipython3",
   "version": "3.8.5"
  }
 },
 "nbformat": 4,
 "nbformat_minor": 4
}
